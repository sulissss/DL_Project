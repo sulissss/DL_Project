{
  "cells": [
    {
      "cell_type": "markdown",
      "id": "f86bc499",
      "metadata": {
        "id": "f86bc499"
      },
      "source": [
        "# 📊 Group 35 Baseline Model\n",
        "\n",
        "- Muhammad Bazaf Shakeel 26100146\n",
        "- Sulaiman Ahmad 26100350\n",
        "\n",
        "Welcome to the Baseline Model and Results notebook for **Group 35**. We select ViCLIP as our baseline model due to its strong performance on video-text retrieval tasks. In this notebook, we perform a forward pass on a sample and a custom video, and evaluate the model using captions from our dataset."
      ]
    },
    {
      "cell_type": "markdown",
      "id": "BxaodRxKaCZ8",
      "metadata": {
        "id": "BxaodRxKaCZ8"
      },
      "source": [
        "# Initial Setup"
      ]
    },
    {
      "cell_type": "markdown",
      "id": "Tak2JIB8YpmS",
      "metadata": {
        "id": "Tak2JIB8YpmS"
      },
      "source": [
        "Setting up the relevant paths"
      ]
    },
    {
      "cell_type": "code",
      "execution_count": 1,
      "id": "EzB6C34grjoT",
      "metadata": {
        "colab": {
          "base_uri": "https://localhost:8080/"
        },
        "id": "EzB6C34grjoT",
        "outputId": "8611b193-90ea-473e-ba3e-5882a01a4507"
      },
      "outputs": [
        {
          "name": "stdout",
          "output_type": "stream",
          "text": [
            "Mounted at /content/drive\n"
          ]
        }
      ],
      "source": [
        "from google.colab import drive\n",
        "drive.mount('/content/drive')"
      ]
    },
    {
      "cell_type": "code",
      "execution_count": 2,
      "id": "CEZjZ7DBrgRi",
      "metadata": {
        "id": "CEZjZ7DBrgRi"
      },
      "outputs": [],
      "source": [
        "import sys\n",
        "sys.path.append(\"/content/drive/MyDrive/InternVideo-main/InternVideo-main/Data/InternVid\")"
      ]
    },
    {
      "cell_type": "code",
      "execution_count": 44,
      "id": "pE1VF0ZwuhSM",
      "metadata": {
        "colab": {
          "base_uri": "https://localhost:8080/"
        },
        "collapsed": true,
        "id": "pE1VF0ZwuhSM",
        "outputId": "3fbd0ce8-3e40-4498-fafa-2b207e14561c"
      },
      "outputs": [
        {
          "name": "stdout",
          "output_type": "stream",
          "text": [
            "/content/drive/MyDrive/InternVideo-main/InternVideo-main/Data/InternVid\n"
          ]
        }
      ],
      "source": [
        "%cd /content/drive/MyDrive/InternVideo-main/InternVideo-main/Data/InternVid"
      ]
    },
    {
      "cell_type": "markdown",
      "id": "FhKXD4LuYf7-",
      "metadata": {
        "id": "FhKXD4LuYf7-"
      },
      "source": [
        "Installing Dependencies"
      ]
    },
    {
      "cell_type": "code",
      "execution_count": null,
      "id": "nQszmnhKwo8v",
      "metadata": {
        "id": "nQszmnhKwo8v"
      },
      "outputs": [],
      "source": [
        "import os\n",
        "from dotenv import load_dotenv\n",
        "\n",
        "load_dotenv('.env')\n",
        "\n",
        "from huggingface_hub import login\n",
        "login(token=os.getenv('HUGGING_FACE_API'))"
      ]
    },
    {
      "cell_type": "code",
      "execution_count": 43,
      "id": "ILOU4Zw9xYj8",
      "metadata": {
        "colab": {
          "base_uri": "https://localhost:8080/",
          "height": 36
        },
        "id": "ILOU4Zw9xYj8",
        "outputId": "89b3d751-5f7d-4663-fc89-dbe57039f25f"
      },
      "outputs": [
        {
          "data": {
            "application/vnd.google.colaboratory.intrinsic+json": {
              "type": "string"
            },
            "text/plain": [
              "'viclip/ViClip-InternVid-10M-FLT.pth'"
            ]
          },
          "execution_count": 43,
          "metadata": {},
          "output_type": "execute_result"
        }
      ],
      "source": [
        "hf_hub_download(\n",
        "    repo_id=\"OpenGVLab/ViCLIP\",\n",
        "    filename=\"ViClip-InternVid-10M-FLT.pth\",\n",
        "    local_dir=\"viclip\",\n",
        "    local_dir_use_symlinks=False\n",
        ")"
      ]
    },
    {
      "cell_type": "markdown",
      "id": "A-K_74G2ZBFw",
      "metadata": {
        "id": "A-K_74G2ZBFw"
      },
      "source": [
        "Importing Libraries"
      ]
    },
    {
      "cell_type": "code",
      "execution_count": 8,
      "id": "-5mq9sBnwOyG",
      "metadata": {
        "id": "-5mq9sBnwOyG"
      },
      "outputs": [],
      "source": [
        "import numpy as np\n",
        "import os\n",
        "import cv2\n",
        "import pandas as pd\n",
        "\n",
        "try:\n",
        "    from viclip import get_viclip, retrieve_text, _frame_from_video\n",
        "except:\n",
        "    from .viclip import get_viclip, retrieve_text, _frame_from_video"
      ]
    },
    {
      "cell_type": "markdown",
      "id": "O1S0JSjzZE34",
      "metadata": {
        "id": "O1S0JSjzZE34"
      },
      "source": [
        "# Baseline Model Forward Pass (from InternVid Github Repository)\n",
        "\n",
        "- For the purposes of this notebook, we did a forward pass on a sample video from the Github repository\n",
        "- After verifying its results, we did a forward pass on a video from our selected dataset."
      ]
    },
    {
      "cell_type": "code",
      "execution_count": 9,
      "id": "a425a5da-ceaf-4b89-9845-c8ba576902d8",
      "metadata": {
        "id": "a425a5da-ceaf-4b89-9845-c8ba576902d8"
      },
      "outputs": [],
      "source": [
        "video = cv2.VideoCapture('example1.mp4')\n",
        "frames = [x for x in _frame_from_video(video)]"
      ]
    },
    {
      "cell_type": "code",
      "execution_count": 34,
      "id": "e6c1cd7a",
      "metadata": {
        "id": "e6c1cd7a"
      },
      "outputs": [],
      "source": [
        "model_cfgs = {\n",
        "    'viclip-b-internvid-10m-flt': {\n",
        "        'size': 'l',\n",
        "        'pretrained': 'viclip/ViClip-InternVid-10M-FLT.pth',\n",
        "    }\n",
        "}"
      ]
    },
    {
      "cell_type": "markdown",
      "id": "-yia3gDebEwI",
      "metadata": {
        "id": "-yia3gDebEwI"
      },
      "source": [
        "Setting up the Baseline Model"
      ]
    },
    {
      "cell_type": "code",
      "execution_count": 35,
      "id": "3fb7397a-02ef-41b5-9ffe-f2363b277778",
      "metadata": {
        "id": "3fb7397a-02ef-41b5-9ffe-f2363b277778"
      },
      "outputs": [],
      "source": [
        "text_candidates = [\"A playful dog and its owner wrestle in the snowy yard, chasing each other with joyous abandon.\",\n",
        "                   \"A man in a gray coat walks through the snowy landscape, pulling a sleigh loaded with toys.\",\n",
        "                   \"A person dressed in a blue jacket shovels the snow-covered pavement outside their house.\",\n",
        "                   \"A pet dog excitedly runs through the snowy yard, chasing a toy thrown by its owner.\",\n",
        "                   \"A person stands on the snowy floor, pushing a sled loaded with blankets, preparing for a fun-filled ride.\",\n",
        "                   \"A man in a gray hat and coat walks through the snowy yard, carefully navigating around the trees.\",\n",
        "                   \"A playful dog slides down a snowy hill, wagging its tail with delight.\",\n",
        "                   \"A person in a blue jacket walks their pet on a leash, enjoying a peaceful winter walk among the trees.\",\n",
        "                   \"A man in a gray sweater plays fetch with his dog in the snowy yard, throwing a toy and watching it run.\",\n",
        "                   \"A person bundled up in a blanket walks through the snowy landscape, enjoying the serene winter scenery.\"]\n",
        "\n",
        "cfg = model_cfgs['viclip-b-internvid-10m-flt']\n",
        "model_s = get_viclip(cfg['size'], cfg['pretrained'])"
      ]
    },
    {
      "cell_type": "markdown",
      "id": "QuzIFzwtZSCl",
      "metadata": {
        "id": "QuzIFzwtZSCl"
      },
      "source": [
        "Function for the Model's Forward Pass"
      ]
    },
    {
      "cell_type": "code",
      "execution_count": 36,
      "id": "IE8Rsz203iT8",
      "metadata": {
        "id": "IE8Rsz203iT8"
      },
      "outputs": [],
      "source": [
        "def run_viclip_retrieval(video_path, model, text_candidates, topk=5):\n",
        "    video = cv2.VideoCapture(video_path)\n",
        "\n",
        "    if not video.isOpened():\n",
        "        raise ValueError(f\"Could not open video file: {video_path}\")\n",
        "\n",
        "    frames = [x for x in _frame_from_video(video)]\n",
        "    texts, probs = retrieve_text(frames, text_candidates, models=model, topk=topk)\n",
        "\n",
        "    results = list(zip(texts, probs))\n",
        "    for t, p in results:\n",
        "        print(f'text: {t} ~ prob: {p:.4f}')\n",
        "\n",
        "    return results"
      ]
    },
    {
      "cell_type": "markdown",
      "id": "Tl1TcvP4ZhKm",
      "metadata": {
        "id": "Tl1TcvP4ZhKm"
      },
      "source": [
        "Forward Pass on sample video from the Github Repository"
      ]
    },
    {
      "cell_type": "code",
      "execution_count": 37,
      "id": "uDYJCb0NYA3o",
      "metadata": {
        "colab": {
          "base_uri": "https://localhost:8080/"
        },
        "id": "uDYJCb0NYA3o",
        "outputId": "ecb2ef16-b4a7-4939-821d-925424b43207"
      },
      "outputs": [
        {
          "name": "stdout",
          "output_type": "stream",
          "text": [
            "text: A man in a gray sweater plays fetch with his dog in the snowy yard, throwing a toy and watching it run. ~ prob: 0.8264\n",
            "text: A playful dog and its owner wrestle in the snowy yard, chasing each other with joyous abandon. ~ prob: 0.1587\n",
            "text: A pet dog excitedly runs through the snowy yard, chasing a toy thrown by its owner. ~ prob: 0.0141\n",
            "text: A person dressed in a blue jacket shovels the snow-covered pavement outside their house. ~ prob: 0.0006\n",
            "text: A playful dog slides down a snowy hill, wagging its tail with delight. ~ prob: 0.0002\n"
          ]
        }
      ],
      "source": [
        "run_viclip_retrieval('example1.mp4', model_s, text_candidates)"
      ]
    },
    {
      "cell_type": "markdown",
      "id": "aBUkK61KZrOu",
      "metadata": {
        "id": "aBUkK61KZrOu"
      },
      "source": [
        "Loading our dataset"
      ]
    },
    {
      "cell_type": "code",
      "execution_count": 38,
      "id": "rHBDTbuGVKu3",
      "metadata": {
        "colab": {
          "base_uri": "https://localhost:8080/",
          "height": 206
        },
        "id": "rHBDTbuGVKu3",
        "outputId": "1987c3d1-2561-4d83-c8b7-73dbcfd0591b"
      },
      "outputs": [
        {
          "data": {
            "application/vnd.google.colaboratory.intrinsic+json": {
              "summary": "{\n  \"name\": \"aes_df\",\n  \"rows\": 50,\n  \"fields\": [\n    {\n      \"column\": \"YoutubeID\",\n      \"properties\": {\n        \"dtype\": \"string\",\n        \"num_unique_values\": 41,\n        \"samples\": [\n          \"07r_B9zFYQo\",\n          \"AA_4Bt6wPzQ\",\n          \"NQLbCmnTe88\"\n        ],\n        \"semantic_type\": \"\",\n        \"description\": \"\"\n      }\n    },\n    {\n      \"column\": \"Caption\",\n      \"properties\": {\n        \"dtype\": \"string\",\n        \"num_unique_values\": 50,\n        \"samples\": [\n          \"The video clip shows a group of musicians performing on a stage. They are playing instruments and singing. It appears to be a musical performance.\",\n          \"The video clip shows a group of people dressed in colorful costumes dancing in the street. They appear to be having a lot of fun and enjoying themselves.\",\n          \"The video clip shows a man sitting at a table and eating a bowl of soup. He is wearing a hat and appears to be enjoying his meal.\"\n        ],\n        \"semantic_type\": \"\",\n        \"description\": \"\"\n      }\n    }\n  ]\n}",
              "type": "dataframe",
              "variable_name": "aes_df"
            },
            "text/html": [
              "\n",
              "  <div id=\"df-4184b7fd-83ee-4e36-938a-334bdba6167f\" class=\"colab-df-container\">\n",
              "    <div>\n",
              "<style scoped>\n",
              "    .dataframe tbody tr th:only-of-type {\n",
              "        vertical-align: middle;\n",
              "    }\n",
              "\n",
              "    .dataframe tbody tr th {\n",
              "        vertical-align: top;\n",
              "    }\n",
              "\n",
              "    .dataframe thead th {\n",
              "        text-align: right;\n",
              "    }\n",
              "</style>\n",
              "<table border=\"1\" class=\"dataframe\">\n",
              "  <thead>\n",
              "    <tr style=\"text-align: right;\">\n",
              "      <th></th>\n",
              "      <th>YoutubeID</th>\n",
              "      <th>Caption</th>\n",
              "    </tr>\n",
              "  </thead>\n",
              "  <tbody>\n",
              "    <tr>\n",
              "      <th>0</th>\n",
              "      <td>KlAAQ4TzqdA</td>\n",
              "      <td>The video clip shows a group of men dressed in...</td>\n",
              "    </tr>\n",
              "    <tr>\n",
              "      <th>1</th>\n",
              "      <td>INsDaKTFXsM</td>\n",
              "      <td>The video clip shows a painting on the ceiling...</td>\n",
              "    </tr>\n",
              "    <tr>\n",
              "      <th>2</th>\n",
              "      <td>cNKOC6I1SPI</td>\n",
              "      <td>The video clip shows a man wearing a white sui...</td>\n",
              "    </tr>\n",
              "    <tr>\n",
              "      <th>3</th>\n",
              "      <td>WTO7-CQPjdY</td>\n",
              "      <td>The video clip shows a man wearing an orange s...</td>\n",
              "    </tr>\n",
              "    <tr>\n",
              "      <th>4</th>\n",
              "      <td>xreclu1ibdU</td>\n",
              "      <td>The video clip shows a woman standing in front...</td>\n",
              "    </tr>\n",
              "  </tbody>\n",
              "</table>\n",
              "</div>\n",
              "    <div class=\"colab-df-buttons\">\n",
              "\n",
              "  <div class=\"colab-df-container\">\n",
              "    <button class=\"colab-df-convert\" onclick=\"convertToInteractive('df-4184b7fd-83ee-4e36-938a-334bdba6167f')\"\n",
              "            title=\"Convert this dataframe to an interactive table.\"\n",
              "            style=\"display:none;\">\n",
              "\n",
              "  <svg xmlns=\"http://www.w3.org/2000/svg\" height=\"24px\" viewBox=\"0 -960 960 960\">\n",
              "    <path d=\"M120-120v-720h720v720H120Zm60-500h600v-160H180v160Zm220 220h160v-160H400v160Zm0 220h160v-160H400v160ZM180-400h160v-160H180v160Zm440 0h160v-160H620v160ZM180-180h160v-160H180v160Zm440 0h160v-160H620v160Z\"/>\n",
              "  </svg>\n",
              "    </button>\n",
              "\n",
              "  <style>\n",
              "    .colab-df-container {\n",
              "      display:flex;\n",
              "      gap: 12px;\n",
              "    }\n",
              "\n",
              "    .colab-df-convert {\n",
              "      background-color: #E8F0FE;\n",
              "      border: none;\n",
              "      border-radius: 50%;\n",
              "      cursor: pointer;\n",
              "      display: none;\n",
              "      fill: #1967D2;\n",
              "      height: 32px;\n",
              "      padding: 0 0 0 0;\n",
              "      width: 32px;\n",
              "    }\n",
              "\n",
              "    .colab-df-convert:hover {\n",
              "      background-color: #E2EBFA;\n",
              "      box-shadow: 0px 1px 2px rgba(60, 64, 67, 0.3), 0px 1px 3px 1px rgba(60, 64, 67, 0.15);\n",
              "      fill: #174EA6;\n",
              "    }\n",
              "\n",
              "    .colab-df-buttons div {\n",
              "      margin-bottom: 4px;\n",
              "    }\n",
              "\n",
              "    [theme=dark] .colab-df-convert {\n",
              "      background-color: #3B4455;\n",
              "      fill: #D2E3FC;\n",
              "    }\n",
              "\n",
              "    [theme=dark] .colab-df-convert:hover {\n",
              "      background-color: #434B5C;\n",
              "      box-shadow: 0px 1px 3px 1px rgba(0, 0, 0, 0.15);\n",
              "      filter: drop-shadow(0px 1px 2px rgba(0, 0, 0, 0.3));\n",
              "      fill: #FFFFFF;\n",
              "    }\n",
              "  </style>\n",
              "\n",
              "    <script>\n",
              "      const buttonEl =\n",
              "        document.querySelector('#df-4184b7fd-83ee-4e36-938a-334bdba6167f button.colab-df-convert');\n",
              "      buttonEl.style.display =\n",
              "        google.colab.kernel.accessAllowed ? 'block' : 'none';\n",
              "\n",
              "      async function convertToInteractive(key) {\n",
              "        const element = document.querySelector('#df-4184b7fd-83ee-4e36-938a-334bdba6167f');\n",
              "        const dataTable =\n",
              "          await google.colab.kernel.invokeFunction('convertToInteractive',\n",
              "                                                    [key], {});\n",
              "        if (!dataTable) return;\n",
              "\n",
              "        const docLinkHtml = 'Like what you see? Visit the ' +\n",
              "          '<a target=\"_blank\" href=https://colab.research.google.com/notebooks/data_table.ipynb>data table notebook</a>'\n",
              "          + ' to learn more about interactive tables.';\n",
              "        element.innerHTML = '';\n",
              "        dataTable['output_type'] = 'display_data';\n",
              "        await google.colab.output.renderOutput(dataTable, element);\n",
              "        const docLink = document.createElement('div');\n",
              "        docLink.innerHTML = docLinkHtml;\n",
              "        element.appendChild(docLink);\n",
              "      }\n",
              "    </script>\n",
              "  </div>\n",
              "\n",
              "\n",
              "<div id=\"df-7c9af28f-6f9a-477d-b7a9-0ac3072eb515\">\n",
              "  <button class=\"colab-df-quickchart\" onclick=\"quickchart('df-7c9af28f-6f9a-477d-b7a9-0ac3072eb515')\"\n",
              "            title=\"Suggest charts\"\n",
              "            style=\"display:none;\">\n",
              "\n",
              "<svg xmlns=\"http://www.w3.org/2000/svg\" height=\"24px\"viewBox=\"0 0 24 24\"\n",
              "     width=\"24px\">\n",
              "    <g>\n",
              "        <path d=\"M19 3H5c-1.1 0-2 .9-2 2v14c0 1.1.9 2 2 2h14c1.1 0 2-.9 2-2V5c0-1.1-.9-2-2-2zM9 17H7v-7h2v7zm4 0h-2V7h2v10zm4 0h-2v-4h2v4z\"/>\n",
              "    </g>\n",
              "</svg>\n",
              "  </button>\n",
              "\n",
              "<style>\n",
              "  .colab-df-quickchart {\n",
              "      --bg-color: #E8F0FE;\n",
              "      --fill-color: #1967D2;\n",
              "      --hover-bg-color: #E2EBFA;\n",
              "      --hover-fill-color: #174EA6;\n",
              "      --disabled-fill-color: #AAA;\n",
              "      --disabled-bg-color: #DDD;\n",
              "  }\n",
              "\n",
              "  [theme=dark] .colab-df-quickchart {\n",
              "      --bg-color: #3B4455;\n",
              "      --fill-color: #D2E3FC;\n",
              "      --hover-bg-color: #434B5C;\n",
              "      --hover-fill-color: #FFFFFF;\n",
              "      --disabled-bg-color: #3B4455;\n",
              "      --disabled-fill-color: #666;\n",
              "  }\n",
              "\n",
              "  .colab-df-quickchart {\n",
              "    background-color: var(--bg-color);\n",
              "    border: none;\n",
              "    border-radius: 50%;\n",
              "    cursor: pointer;\n",
              "    display: none;\n",
              "    fill: var(--fill-color);\n",
              "    height: 32px;\n",
              "    padding: 0;\n",
              "    width: 32px;\n",
              "  }\n",
              "\n",
              "  .colab-df-quickchart:hover {\n",
              "    background-color: var(--hover-bg-color);\n",
              "    box-shadow: 0 1px 2px rgba(60, 64, 67, 0.3), 0 1px 3px 1px rgba(60, 64, 67, 0.15);\n",
              "    fill: var(--button-hover-fill-color);\n",
              "  }\n",
              "\n",
              "  .colab-df-quickchart-complete:disabled,\n",
              "  .colab-df-quickchart-complete:disabled:hover {\n",
              "    background-color: var(--disabled-bg-color);\n",
              "    fill: var(--disabled-fill-color);\n",
              "    box-shadow: none;\n",
              "  }\n",
              "\n",
              "  .colab-df-spinner {\n",
              "    border: 2px solid var(--fill-color);\n",
              "    border-color: transparent;\n",
              "    border-bottom-color: var(--fill-color);\n",
              "    animation:\n",
              "      spin 1s steps(1) infinite;\n",
              "  }\n",
              "\n",
              "  @keyframes spin {\n",
              "    0% {\n",
              "      border-color: transparent;\n",
              "      border-bottom-color: var(--fill-color);\n",
              "      border-left-color: var(--fill-color);\n",
              "    }\n",
              "    20% {\n",
              "      border-color: transparent;\n",
              "      border-left-color: var(--fill-color);\n",
              "      border-top-color: var(--fill-color);\n",
              "    }\n",
              "    30% {\n",
              "      border-color: transparent;\n",
              "      border-left-color: var(--fill-color);\n",
              "      border-top-color: var(--fill-color);\n",
              "      border-right-color: var(--fill-color);\n",
              "    }\n",
              "    40% {\n",
              "      border-color: transparent;\n",
              "      border-right-color: var(--fill-color);\n",
              "      border-top-color: var(--fill-color);\n",
              "    }\n",
              "    60% {\n",
              "      border-color: transparent;\n",
              "      border-right-color: var(--fill-color);\n",
              "    }\n",
              "    80% {\n",
              "      border-color: transparent;\n",
              "      border-right-color: var(--fill-color);\n",
              "      border-bottom-color: var(--fill-color);\n",
              "    }\n",
              "    90% {\n",
              "      border-color: transparent;\n",
              "      border-bottom-color: var(--fill-color);\n",
              "    }\n",
              "  }\n",
              "</style>\n",
              "\n",
              "  <script>\n",
              "    async function quickchart(key) {\n",
              "      const quickchartButtonEl =\n",
              "        document.querySelector('#' + key + ' button');\n",
              "      quickchartButtonEl.disabled = true;  // To prevent multiple clicks.\n",
              "      quickchartButtonEl.classList.add('colab-df-spinner');\n",
              "      try {\n",
              "        const charts = await google.colab.kernel.invokeFunction(\n",
              "            'suggestCharts', [key], {});\n",
              "      } catch (error) {\n",
              "        console.error('Error during call to suggestCharts:', error);\n",
              "      }\n",
              "      quickchartButtonEl.classList.remove('colab-df-spinner');\n",
              "      quickchartButtonEl.classList.add('colab-df-quickchart-complete');\n",
              "    }\n",
              "    (() => {\n",
              "      let quickchartButtonEl =\n",
              "        document.querySelector('#df-7c9af28f-6f9a-477d-b7a9-0ac3072eb515 button');\n",
              "      quickchartButtonEl.style.display =\n",
              "        google.colab.kernel.accessAllowed ? 'block' : 'none';\n",
              "    })();\n",
              "  </script>\n",
              "</div>\n",
              "\n",
              "    </div>\n",
              "  </div>\n"
            ],
            "text/plain": [
              "     YoutubeID                                            Caption\n",
              "0  KlAAQ4TzqdA  The video clip shows a group of men dressed in...\n",
              "1  INsDaKTFXsM  The video clip shows a painting on the ceiling...\n",
              "2  cNKOC6I1SPI  The video clip shows a man wearing a white sui...\n",
              "3  WTO7-CQPjdY  The video clip shows a man wearing an orange s...\n",
              "4  xreclu1ibdU  The video clip shows a woman standing in front..."
            ]
          },
          "execution_count": 38,
          "metadata": {},
          "output_type": "execute_result"
        }
      ],
      "source": [
        "aes_df = pd.read_csv(\"aes.csv\")\n",
        "aes_df.head()"
      ]
    },
    {
      "cell_type": "markdown",
      "id": "l-yQHjjZZw9u",
      "metadata": {
        "id": "l-yQHjjZZw9u"
      },
      "source": [
        "Forward Pass on a video from our dataset"
      ]
    },
    {
      "cell_type": "code",
      "execution_count": 41,
      "id": "p5szx7kAVkG6",
      "metadata": {
        "colab": {
          "base_uri": "https://localhost:8080/"
        },
        "id": "p5szx7kAVkG6",
        "outputId": "c37ea1b1-3e2d-4048-a754-7df99fdab603"
      },
      "outputs": [
        {
          "name": "stdout",
          "output_type": "stream",
          "text": [
            "text: The video clip shows a group of men dressed in blue shirts singing and dancing in front of a classic car. They seem to be having a good time and enjoying themselves. ~ prob: 0.6278\n",
            "text: The video clip shows a group of men dressed in blue jackets standing in front of a row of classic cars. They seem to be posing for a photo and appear to be having a good time. ~ prob: 0.3708\n",
            "text: The video clip shows a group of men standing in front of a classic car. They appear to be posing for a photo and seem to be enjoying each other's company. ~ prob: 0.0014\n",
            "text: The video clip shows a man wearing an orange jacket and holding a plate of food. He is standing next to a plant and seems to be preparing a meal. ~ prob: 0.0000\n",
            "text: The video clip shows a group of men dressed in suits and ties posing for a photo. They are all wearing hats and appear to be having a good time. The setting seems to be outdoors, possibly in a garden or park. It appears to be a group of friends or colleagues enjoying each other's company. ~ prob: 0.0000\n"
          ]
        }
      ],
      "source": [
        "run_viclip_retrieval(f\"Aes_InternVid_Clips/{aes_df.iloc[0]['YoutubeID']}.mp4\", model_s, list(aes_df[\"Caption\"]), topk=5)"
      ]
    },
    {
      "cell_type": "markdown",
      "id": "STfO3VdLcN0M",
      "metadata": {
        "id": "STfO3VdLcN0M"
      },
      "source": [
        "# Evaluation"
      ]
    },
    {
      "cell_type": "markdown",
      "id": "nxB9rFq9bQZA",
      "metadata": {
        "id": "nxB9rFq9bQZA"
      },
      "source": [
        "- Based on the results, we observed that the model accurately predicted the correct caption with a confidence score of 0.6278.\n",
        "\n",
        "- To evaluate the model, we provided it with a list of text candidates — specifically, the captions of all other videos in our dataset.\n",
        "\n",
        "- The ViCLIP model processes the video frames using a pretrained vision encoder, while the candidate captions are embedded via a text encoder. It then computes similarity scores between the visual and textual features.\n",
        "\n",
        "- From this, it ranks the top matches and returns the top 5 most relevant captions based on similarity probabilities."
      ]
    }
  ],
  "metadata": {
    "accelerator": "GPU",
    "colab": {
      "gpuType": "T4",
      "provenance": []
    },
    "kernelspec": {
      "display_name": "Python 3",
      "name": "python3"
    },
    "language_info": {
      "codemirror_mode": {
        "name": "ipython",
        "version": 3
      },
      "file_extension": ".py",
      "mimetype": "text/x-python",
      "name": "python",
      "nbconvert_exporter": "python",
      "pygments_lexer": "ipython3",
      "version": "3.9.12"
    }
  },
  "nbformat": 4,
  "nbformat_minor": 5
}
