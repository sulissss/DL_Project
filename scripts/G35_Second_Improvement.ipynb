{
  "cells": [
    {
      "cell_type": "markdown",
      "id": "f86bc499",
      "metadata": {
        "id": "f86bc499"
      },
      "source": [
        "# 📊 Group 35 – Second Model Improvements\n",
        "\n",
        "- Muhammad Bazaf Shakeel (26100146)\n",
        "- Sulaiman Ahmad (26100350)\n",
        "\n",
        "Welcome to the second-phase notebook for **Group 35**, where we extend our earlier ViCLIP improvements with more advanced strategies.\n",
        "\n",
        "---\n",
        "\n",
        "###  Objective\n",
        "\n",
        "We aim to **further adapt ViCLIP to our custom video-caption dataset** (~50 pairs) by introducing:\n",
        "\n",
        "1. **Multimodal Fusion Transformers** to jointly encode vision and text features.\n",
        "2. Alternative **frame sampling strategies** to experiment with temporal signal selection.\n",
        "3. Continued use of **InfoNCE vs. Hard Negative-Aware Contrastive Loss (HNAC)** for comparative analysis.\n",
        "\n",
        "---\n",
        "\n",
        "This notebook outlines our implementations, training routines, and performance evaluations.\n"
      ]
    },
    {
      "cell_type": "markdown",
      "id": "BxaodRxKaCZ8",
      "metadata": {
        "id": "BxaodRxKaCZ8"
      },
      "source": [
        "### Initial Setup"
      ]
    },
    {
      "cell_type": "markdown",
      "id": "Tak2JIB8YpmS",
      "metadata": {
        "id": "Tak2JIB8YpmS"
      },
      "source": [
        "Setting up the relevant paths"
      ]
    },
    {
      "cell_type": "code",
      "execution_count": 1,
      "id": "EzB6C34grjoT",
      "metadata": {
        "colab": {
          "base_uri": "https://localhost:8080/"
        },
        "id": "EzB6C34grjoT",
        "outputId": "8e49241a-c30b-4322-a7f4-933b2dea1f2a"
      },
      "outputs": [
        {
          "name": "stdout",
          "output_type": "stream",
          "text": [
            "Drive already mounted at /content/drive; to attempt to forcibly remount, call drive.mount(\"/content/drive\", force_remount=True).\n"
          ]
        }
      ],
      "source": [
        "from google.colab import drive\n",
        "drive.mount('/content/drive')"
      ]
    },
    {
      "cell_type": "code",
      "execution_count": 2,
      "id": "CEZjZ7DBrgRi",
      "metadata": {
        "id": "CEZjZ7DBrgRi"
      },
      "outputs": [],
      "source": [
        "import sys\n",
        "sys.path.append(\"/content/drive/MyDrive/InternVid\")"
      ]
    },
    {
      "cell_type": "code",
      "execution_count": 3,
      "id": "pE1VF0ZwuhSM",
      "metadata": {
        "colab": {
          "base_uri": "https://localhost:8080/"
        },
        "collapsed": true,
        "id": "pE1VF0ZwuhSM",
        "outputId": "f1577d9f-a25a-4fff-8f00-28cddede38e2"
      },
      "outputs": [
        {
          "name": "stdout",
          "output_type": "stream",
          "text": [
            "/content/drive/MyDrive/InternVid\n"
          ]
        }
      ],
      "source": [
        "%cd /content/drive/MyDrive/InternVid"
      ]
    },
    {
      "cell_type": "markdown",
      "id": "A-K_74G2ZBFw",
      "metadata": {
        "id": "A-K_74G2ZBFw"
      },
      "source": [
        "Importing Libraries"
      ]
    },
    {
      "cell_type": "code",
      "execution_count": 34,
      "id": "-5mq9sBnwOyG",
      "metadata": {
        "id": "-5mq9sBnwOyG"
      },
      "outputs": [],
      "source": [
        "import numpy as np\n",
        "import matplotlib.pyplot as plt\n",
        "import os\n",
        "import cv2\n",
        "import pandas as pd\n",
        "import torch\n",
        "import torch.nn.functional as F\n",
        "import random\n",
        "from tqdm import tqdm\n",
        "from torch.utils.data import Dataset, DataLoader\n",
        "from sklearn.model_selection import train_test_split\n",
        "import gc\n",
        "import torch\n",
        "import warnings\n",
        "import torch.nn as nn\n",
        "\n",
        "warnings.filterwarnings(\"ignore\", category=UserWarning)\n",
        "device = torch.device('cuda' if torch.cuda.is_available() else 'cpu')\n",
        "\n",
        "try:\n",
        "    from viclip import get_viclip, retrieve_text, _frame_from_video\n",
        "except:\n",
        "    from .viclip import get_viclip, retrieve_text, _frame_from_video\n"
      ]
    },
    {
      "cell_type": "markdown",
      "id": "4M5A4XjqCdHU",
      "metadata": {
        "id": "4M5A4XjqCdHU"
      },
      "source": [
        "###  Model Configuration\n",
        "\n",
        "We define the configuration for the pretrained ViCLIP model, specifying model size and checkpoint path.\n"
      ]
    },
    {
      "cell_type": "code",
      "execution_count": 10,
      "id": "e6c1cd7a",
      "metadata": {
        "id": "e6c1cd7a"
      },
      "outputs": [],
      "source": [
        "model_cfgs = {\n",
        "    'viclip-b-internvid-10m-flt': {\n",
        "        'size': 'l',\n",
        "        'pretrained': 'viclip/ViClip-InternVid-10M-FLT.pth',\n",
        "    }\n",
        "}"
      ]
    },
    {
      "cell_type": "markdown",
      "id": "28yNVJXBClaX",
      "metadata": {
        "id": "28yNVJXBClaX"
      },
      "source": [
        "### VideoCaptionDataset Class\n",
        "\n",
        "We define a custom PyTorch `Dataset` to:\n",
        "- Load video clips using OpenCV\n",
        "- Extract frames using a chosen strategy\n",
        "- Pair them with their corresponding captions from the dataset\n"
      ]
    },
    {
      "cell_type": "code",
      "execution_count": 11,
      "id": "IrraNrGHpyiO",
      "metadata": {
        "id": "IrraNrGHpyiO"
      },
      "outputs": [],
      "source": [
        "class VideoCaptionDataset(Dataset):\n",
        "    def __init__(self, df, video_dir, frame_extractor):\n",
        "        \"\"\"\n",
        "        df          : DataFrame with columns ['YoutubeID','Caption']\n",
        "        video_dir   : path where <YoutubeID>.mp4 clips live\n",
        "        frame_extractor: function to turn cv2.VideoCapture -> list of frames\n",
        "        \"\"\"\n",
        "        self.df = df.reset_index(drop=True)\n",
        "        self.video_dir = video_dir\n",
        "        self.extract = frame_extractor\n",
        "\n",
        "    def __len__(self):\n",
        "        return len(self.df)\n",
        "\n",
        "    def __getitem__(self, idx):\n",
        "        row = self.df.iloc[idx]\n",
        "        vid = row[\"YoutubeID\"]\n",
        "        cap = row[\"Caption\"]\n",
        "\n",
        "        # load frames\n",
        "        path = os.path.join(self.video_dir, f\"{vid}.mp4\")\n",
        "        video = cv2.VideoCapture(path)\n",
        "        frames = [f for f in self.extract(video)]\n",
        "        video.release()\n",
        "\n",
        "        return frames, cap"
      ]
    },
    {
      "cell_type": "markdown",
      "id": "gVSU15oz2Qpr",
      "metadata": {
        "id": "gVSU15oz2Qpr"
      },
      "source": [
        "### Cross-Attention Module\n",
        "\n",
        "To improve modality interaction, we introduce a **Cross-Attention** mechanism between the video and text embeddings.  \n",
        "This module uses a multi-head attention layer where one modality (e.g., vision) queries the other (e.g., text), allowing each to adaptively attend to features in the other.\n",
        "\n",
        "Key features:\n",
        "- Uses `nn.MultiheadAttention` for rich inter-modal interactions.\n",
        "- Applies residual connection followed by Layer Normalization.\n",
        "- Can be used symmetrically (video → text and text → video) during training.\n"
      ]
    },
    {
      "cell_type": "code",
      "execution_count": 16,
      "id": "-Scbo_ub9X03",
      "metadata": {
        "id": "-Scbo_ub9X03"
      },
      "outputs": [],
      "source": [
        "class CrossAttention(nn.Module):\n",
        "    def __init__(self, embed_dim, num_heads=4):\n",
        "        super().__init__()\n",
        "        self.attn = nn.MultiheadAttention(embed_dim, num_heads, batch_first=True)\n",
        "        self.ln = nn.LayerNorm(embed_dim)\n",
        "\n",
        "    def forward(self, query, key_value):\n",
        "        if query.dim() == 2:\n",
        "            query = query.unsqueeze(1)\n",
        "            key_value = key_value.unsqueeze(1)\n",
        "\n",
        "        attn_output, _ = self.attn(query, key_value, key_value)\n",
        "        return self.ln(query + attn_output).squeeze(1)"
      ]
    },
    {
      "cell_type": "markdown",
      "id": "b8xmPzb84Ttz",
      "metadata": {
        "id": "b8xmPzb84Ttz"
      },
      "source": [
        "## Multimodal Fusion Transformer\n",
        "\n",
        "To improve joint representation learning between modalities, we introduce a **Transformer Encoder** that fuses video and text features.\n",
        "\n",
        "- Takes in projected video and text embeddings.\n",
        "- Outputs fused sequences which are then averaged across tokens (temporal pooling).\n",
        "- Used in place of simple cross-attention to allow **deeper multimodal interactions**.\n"
      ]
    },
    {
      "cell_type": "code",
      "execution_count": 17,
      "id": "oC5fjJ6b8_q4",
      "metadata": {
        "id": "oC5fjJ6b8_q4"
      },
      "outputs": [],
      "source": [
        "class MultimodalFusionTransformer(nn.Module):\n",
        "    def __init__(self, embed_dim, num_layers=4, num_heads=8):\n",
        "        super().__init__()\n",
        "        encoder_layer = nn.TransformerEncoderLayer(d_model=embed_dim, nhead=num_heads, batch_first=True)\n",
        "        self.transformer = nn.TransformerEncoder(encoder_layer, num_layers=num_layers)\n",
        "\n",
        "    def forward(self, video_features, text_features):\n",
        "        \"\"\"\n",
        "        video_features: (B, T, D) or (B, D)\n",
        "        text_features: (B, S, D) or (B, D)\n",
        "        Returns fused representations for video and text separately.\n",
        "        \"\"\"\n",
        "        # Ensure 3D input\n",
        "        if video_features.ndim == 2:\n",
        "            video_features = video_features.unsqueeze(1)  # (B, 1, D)\n",
        "        if text_features.ndim == 2:\n",
        "            text_features = text_features.unsqueeze(1)    # (B, 1, D)\n",
        "\n",
        "        fused = torch.cat([video_features, text_features], dim=1)  # (B, T+S, D)\n",
        "        fused = self.transformer(fused)\n",
        "        return fused[:, :video_features.size(1)], fused[:, video_features.size(1):]\n"
      ]
    },
    {
      "cell_type": "markdown",
      "id": "OoLG88Lq2TZw",
      "metadata": {
        "id": "OoLG88Lq2TZw"
      },
      "source": [
        "### Hard Negative-Aware Contrastive Loss (HNAC)\n",
        "\n",
        "Standard contrastive losses treat all non-matching pairs equally as negatives. However, in video-text retrieval tasks, **false negatives** (semantically similar but unmatched captions) are common.\n",
        "\n",
        "We address this by introducing **Hard Negative-Aware Contrastive Loss**, which:\n",
        "- Applies a **soft weighting** to negative pairs based on similarity (harder negatives are down-weighted).\n",
        "- Uses a decayed sigmoid function to modulate contrastive strength.\n",
        "- Improves generalization by reducing over-penalization of potentially valid but unpaired samples.\n",
        "\n",
        "This approach is especially useful in **low-data or noisy datasets** like ours.\n"
      ]
    },
    {
      "cell_type": "code",
      "execution_count": 18,
      "id": "YqAtV9l7Xp5N",
      "metadata": {
        "id": "YqAtV9l7Xp5N"
      },
      "outputs": [],
      "source": [
        "class HardNegativeAwareContrastiveLoss(nn.Module):\n",
        "    def __init__(self, temperature=0.07, reduction='mean', hard_negative_weight=0.5):\n",
        "        super().__init__()\n",
        "        self.temperature = temperature\n",
        "        self.reduction = reduction\n",
        "        self.hard_negative_weight = hard_negative_weight  # Lower weight for likely false negatives\n",
        "\n",
        "    def forward(self, video_embeddings, text_embeddings):\n",
        "        \"\"\"\n",
        "        video_embeddings: (B, D)\n",
        "        text_embeddings: (B, D)\n",
        "        \"\"\"\n",
        "        batch_size = video_embeddings.size(0)\n",
        "\n",
        "        # Normalize\n",
        "        video_norm = F.normalize(video_embeddings, dim=-1)\n",
        "        text_norm = F.normalize(text_embeddings, dim=-1)\n",
        "\n",
        "        # Similarity matrix (B x B)\n",
        "        sim_matrix = torch.matmul(video_norm, text_norm.T) / self.temperature\n",
        "\n",
        "        # Positive similarities are diagonal\n",
        "        pos_sim = torch.diag(sim_matrix)  # (B,)\n",
        "\n",
        "        # Compute softmax over rows (video → text)\n",
        "        exp_sim = torch.exp(sim_matrix)\n",
        "\n",
        "        # Weight negatives based on their similarity to the anchor (harder → downweight)\n",
        "        weights_v2t = self._compute_negative_weights(video_norm, text_norm)\n",
        "\n",
        "        # Remove diagonal from weights (positives), only use for negatives\n",
        "        mask = torch.eye(batch_size, device=sim_matrix.device).bool()\n",
        "        exp_sim = exp_sim.masked_fill(mask, 0.0)\n",
        "        weights_v2t = weights_v2t.masked_fill(mask, 0.0)\n",
        "\n",
        "        # Compute the log-prob of correct pair\n",
        "        denom_v2t = (exp_sim * weights_v2t + 1e-8).sum(dim=1)\n",
        "        loss_v2t = -pos_sim + torch.log(denom_v2t + torch.exp(pos_sim))\n",
        "\n",
        "        # Repeat for text → video\n",
        "        sim_matrix_t2v = sim_matrix.T\n",
        "        pos_sim_t2v = torch.diag(sim_matrix_t2v)\n",
        "        exp_sim_t2v = torch.exp(sim_matrix_t2v)\n",
        "        weights_t2v = self._compute_negative_weights(text_norm, video_norm)\n",
        "        weights_t2v = weights_t2v.masked_fill(mask, 0.0)\n",
        "        exp_sim_t2v = exp_sim_t2v.masked_fill(mask, 0.0)\n",
        "        denom_t2v = (exp_sim_t2v * weights_t2v + 1e-8).sum(dim=1)\n",
        "        loss_t2v = -pos_sim_t2v + torch.log(denom_t2v + torch.exp(pos_sim_t2v))\n",
        "\n",
        "        loss = (loss_v2t + loss_t2v) / 2\n",
        "\n",
        "        if self.reduction == 'sum':\n",
        "            return loss.sum()\n",
        "        else:\n",
        "            return loss.mean()\n",
        "\n",
        "    def _compute_negative_weights(self, anchor, candidates):\n",
        "        \"\"\"\n",
        "        Down-weight false negatives by applying a decay function on similarity.\n",
        "        \"\"\"\n",
        "        sim_matrix = torch.matmul(anchor, candidates.T)  # cosine similarities\n",
        "        # A sigmoid-like decay: lower similarity → closer to 1.0 weight\n",
        "        weights = 1.0 - self.hard_negative_weight * torch.sigmoid(sim_matrix * 5)\n",
        "        return weights.detach()  # Do not backprop through weights"
      ]
    },
    {
      "cell_type": "markdown",
      "id": "D7TJdpphDnhW",
      "metadata": {
        "id": "D7TJdpphDnhW"
      },
      "source": [
        "### Helper Functions\n",
        "\n",
        "This section includes key utility functions used throughout training:\n",
        "\n",
        "- **`normalize`**: Applies ImageNet-style normalization to image pixels.\n",
        "- **`framestotensor`**: Converts a list of raw video frames to a properly shaped tensor `[1, T, C, H, W]` for ViCLIP input. Handles grayscale, RGBA, and missing frames robustly.\n",
        "- **`clear_cuda`**: Frees GPU memory to avoid out-of-memory issues between runs.\n",
        "- **`clip_loss`**: Computes a CLIP-style contrastive loss between video and text embeddings.\n",
        "- **`custom_collate`**: A custom `collate_fn` for batching variable-length video frame sequences.\n"
      ]
    },
    {
      "cell_type": "code",
      "execution_count": 12,
      "id": "FCY0bZiEGTOi",
      "metadata": {
        "id": "FCY0bZiEGTOi"
      },
      "outputs": [],
      "source": [
        "v_mean = np.array([0.485, 0.456, 0.406]).reshape(1,1,3)\n",
        "v_std = np.array([0.229, 0.224, 0.225]).reshape(1,1,3)\n",
        "\n",
        "def normalize(data):\n",
        "    return (data/255.0-v_mean)/v_std\n",
        "\n",
        "def frames_to_tensor(vid_list, fnum=8, target_size=(224, 224), device=torch.device('cuda')):\n",
        "    assert len(vid_list) >= fnum\n",
        "    step = len(vid_list) // fnum\n",
        "    vid_list = vid_list[::step][:fnum]\n",
        "\n",
        "    fixed_list = []\n",
        "    for x in vid_list:\n",
        "        if x is None:\n",
        "            x = np.zeros((target_size[1], target_size[0], 3), dtype=np.uint8)\n",
        "        elif len(x.shape) == 2:\n",
        "            x = cv2.cvtColor(x, cv2.COLOR_GRAY2RGB)\n",
        "        elif x.shape[2] == 1:\n",
        "            x = cv2.cvtColor(x, cv2.COLOR_GRAY2RGB)\n",
        "        elif x.shape[2] == 4:\n",
        "            x = cv2.cvtColor(x, cv2.COLOR_RGBA2RGB)\n",
        "        fixed_list.append(cv2.resize(x[:, :, ::-1], target_size))\n",
        "\n",
        "    vid_tube = [np.expand_dims(normalize(x), axis=(0, 1)) for x in fixed_list]\n",
        "    vid_tube = np.concatenate(vid_tube, axis=1)\n",
        "    vid_tube = np.transpose(vid_tube, (0, 1, 4, 2, 3))\n",
        "    vid_tube = torch.from_numpy(vid_tube).to(device, non_blocking=True).float()\n",
        "    return vid_tube\n",
        "\n",
        "def clear_cuda():\n",
        "    gc.collect()\n",
        "    torch.cuda.empty_cache()\n",
        "    torch.cuda.ipc_collect()\n",
        "\n",
        "def clip_loss(vision_embeds, text_embeds, temperature=0.07):\n",
        "    if vision_embeds.ndim == 2 and text_embeds.ndim == 2:\n",
        "        vision_embeds = F.normalize(vision_embeds, dim=-1)\n",
        "        text_embeds = F.normalize(text_embeds, dim=-1)\n",
        "        logits = (vision_embeds @ text_embeds.T) / temperature\n",
        "        labels = torch.arange(len(logits)).to(logits.device)\n",
        "        loss_i2t = F.cross_entropy(logits, labels)\n",
        "        loss_t2i = F.cross_entropy(logits.T, labels)\n",
        "        return (loss_i2t + loss_t2i) / 2\n",
        "    else:\n",
        "        raise ValueError(\"Embeddings must be 2D for contrastive loss.\")\n",
        "\n",
        "def custom_collate(batch):\n",
        "    frames, captions = zip(*batch)\n",
        "    return list(frames), list(captions)"
      ]
    },
    {
      "cell_type": "markdown",
      "id": "2vBdw_7vqm2j",
      "metadata": {
        "id": "2vBdw_7vqm2j"
      },
      "source": [
        "### Loading DataFrames and Creating DataLoaders\n",
        "\n",
        "We begin by reading the `aes.csv` file, which contains video-caption pairs.  \n",
        "The dataset is split into training (80%), validation (10%), and test (10%) subsets using `train_test_split`.\n",
        "\n",
        "We then initialize instances of the custom `VideoCaptionDataset`, which loads videos and extracts frames using `_frame_from_video`.\n",
        "\n",
        "Finally, PyTorch `DataLoader`s are created for each dataset split, with a custom `collate_fn` to handle variable-length video inputs.\n"
      ]
    },
    {
      "cell_type": "code",
      "execution_count": 13,
      "id": "-xqklz_Uqjh8",
      "metadata": {
        "id": "-xqklz_Uqjh8"
      },
      "outputs": [],
      "source": [
        "aes_df = pd.read_csv(\"/content/drive/MyDrive/InternVid/aes.csv\")\n",
        "\n",
        "train_df, tmp_df = train_test_split(aes_df, test_size=0.2, random_state=42, shuffle=True)\n",
        "val_df, test_df = train_test_split(tmp_df, test_size=0.5, random_state=42, shuffle=True)"
      ]
    },
    {
      "cell_type": "code",
      "execution_count": 14,
      "id": "LZGFt1dd0JV3",
      "metadata": {
        "colab": {
          "base_uri": "https://localhost:8080/"
        },
        "id": "LZGFt1dd0JV3",
        "outputId": "cc41b8e5-32c3-4d2e-e764-132d62c52bec"
      },
      "outputs": [
        {
          "name": "stdout",
          "output_type": "stream",
          "text": [
            "Sizes of Datasets → Train: 40, Validation: 5, Test: 5\n"
          ]
        }
      ],
      "source": [
        "video_dir = \"/content/drive/MyDrive/InternVid/Aes_InternVid_Clips\"\n",
        "train_ds = VideoCaptionDataset(train_df, video_dir, _frame_from_video)\n",
        "val_ds   = VideoCaptionDataset(val_df,  video_dir, _frame_from_video)\n",
        "test_ds  = VideoCaptionDataset(test_df,  video_dir, _frame_from_video)\n",
        "\n",
        "print(f\"Sizes of Datasets → Train: {len(train_ds)}, Validation: {len(val_ds)}, Test: {len(test_ds)}\")"
      ]
    },
    {
      "cell_type": "code",
      "execution_count": 15,
      "id": "TM4XgNeRDs7d",
      "metadata": {
        "id": "TM4XgNeRDs7d"
      },
      "outputs": [],
      "source": [
        "train_loader = DataLoader(train_ds, batch_size=4, shuffle=True,  num_workers=0, collate_fn=custom_collate)\n",
        "val_loader   = DataLoader(val_ds,   batch_size=4, shuffle=False, num_workers=0, collate_fn=custom_collate)\n",
        "test_loader  = DataLoader(test_ds,  batch_size=4, shuffle=False, num_workers=0, collate_fn=custom_collate)"
      ]
    },
    {
      "cell_type": "markdown",
      "id": "29TKpTD3DAij",
      "metadata": {
        "id": "29TKpTD3DAij"
      },
      "source": [
        "### Training and Evaluation Loops\n",
        "\n",
        "We define the core training and evaluation routines that support all architectural variants and loss functions explored in this notebook.\n",
        "\n"
      ]
    },
    {
      "cell_type": "code",
      "execution_count": 19,
      "id": "ACZZNsYrGmUQ",
      "metadata": {
        "id": "ACZZNsYrGmUQ"
      },
      "outputs": [],
      "source": [
        "# Training Loop\n",
        "def train_epoch(model, loader, optimizer, loss_fn, fusion_module=None):\n",
        "    model.train()\n",
        "    total_loss = 0\n",
        "\n",
        "    for frames_batch, captions in loader:\n",
        "        optimizer.zero_grad()\n",
        "\n",
        "        processed_batch = []\n",
        "        for frames in frames_batch:\n",
        "            processed = frames_to_tensor(frames, device=device)\n",
        "            processed_batch.append(processed)\n",
        "\n",
        "        vid_tensor = torch.cat(processed_batch, dim=0)  # (B, T, C, H, W)\n",
        "        vision_features = model.encode_vision(vid_tensor)  # (B, D)\n",
        "        text_features = model.encode_text(captions)        # (B, D)\n",
        "\n",
        "        if fusion_module:\n",
        "            vision_features, text_features = fusion_module(vision_features, text_features)\n",
        "\n",
        "            # Optionally aggregate (e.g., mean over time)\n",
        "            vision_features = vision_features.mean(dim=1)\n",
        "            text_features = text_features.mean(dim=1)\n",
        "\n",
        "        loss = loss_fn(vision_features, text_features)\n",
        "        loss.backward()\n",
        "        optimizer.step()\n",
        "\n",
        "        total_loss += loss.item()\n",
        "\n",
        "    return total_loss / len(loader)\n",
        "\n",
        "\n",
        "# Evaluating Loop\n",
        "def evaluate(model, loader, loss_fn, fusion_module=None):\n",
        "    model.eval()\n",
        "    total_loss = 0\n",
        "\n",
        "    with torch.no_grad():\n",
        "        for frames_batch, captions in loader:\n",
        "            processed_batch = []\n",
        "            for frames in frames_batch:\n",
        "                processed = frames_to_tensor(frames, device=device)\n",
        "                processed_batch.append(processed)\n",
        "\n",
        "            vid_tensor = torch.cat(processed_batch, dim=0)\n",
        "            vision_features = model.encode_vision(vid_tensor)\n",
        "            text_features = model.encode_text(captions)\n",
        "\n",
        "            if fusion_module:\n",
        "                vision_features, text_features = fusion_module(vision_features, text_features)\n",
        "                vision_features = vision_features.mean(dim=1)\n",
        "                text_features = text_features.mean(dim=1)\n",
        "\n",
        "            loss = loss_fn(vision_features, text_features)\n",
        "\n",
        "            if loss.dim() > 0:\n",
        "                total_loss += loss.mean().item()\n",
        "            else:\n",
        "                total_loss += loss.item()\n",
        "\n",
        "    return total_loss / len(loader)\n"
      ]
    },
    {
      "cell_type": "markdown",
      "id": "EOP_eCF05BVD",
      "metadata": {
        "id": "EOP_eCF05BVD"
      },
      "source": [
        "### Model Instantiation & Training Wrapper\n",
        "\n",
        "We define a flexible function `instantiate_and_train_model()` to streamline the experimentation process.\n",
        "\n",
        "This function:\n",
        "- **Loads the pretrained ViCLIP model** and moves it to the appropriate device.\n",
        "- Optionally adds a **Cross-Attention module** based on `use_cross_attn`.\n",
        "- Selects the appropriate **loss function**: standard InfoNCE or Hard Negative-Aware Contrastive Loss (HNAC).\n",
        "- Unfreezes the vision encoder to allow full model fine-tuning.\n",
        "- Trains the model using `train_and_evaluate_model()` for a specified number of epochs.\n",
        "- Returns training and validation losses to facilitate performance comparison.\n",
        "\n",
        "This modular wrapper makes it easy to toggle different configurations and directly compare their effectiveness.\n"
      ]
    },
    {
      "cell_type": "code",
      "execution_count": 21,
      "id": "WBQSGhnKrZpY",
      "metadata": {
        "id": "WBQSGhnKrZpY"
      },
      "outputs": [],
      "source": [
        "def instantiate_and_train_model(num_epochs, use_fusion=False, use_hnac_loss=False):\n",
        "    clear_cuda()\n",
        "    cfg = model_cfgs['viclip-b-internvid-10m-flt']\n",
        "    model_dict = get_viclip(cfg['size'], cfg['pretrained'])\n",
        "    clip_model = model_dict['viclip'].to(device)\n",
        "\n",
        "    fusion_module = MultimodalFusionTransformer(embed_dim=clip_model.embed_dim).to(device) if use_fusion else None\n",
        "\n",
        "    for p in clip_model.vision_encoder.parameters():\n",
        "        p.requires_grad = True\n",
        "\n",
        "    optimizer = torch.optim.AdamW(clip_model.parameters(), lr=2e-5, weight_decay=0.02)\n",
        "\n",
        "    loss_fn = HardNegativeAwareContrastiveLoss(temperature=0.07) if use_hnac_loss else clip_loss\n",
        "\n",
        "    train_losses, val_losses = train_and_evaluate_model(\n",
        "        clip_model, optimizer, loss_fn, num_epochs=num_epochs,\n",
        "        train_loader=train_loader, val_loader=val_loader,\n",
        "        fusion_module=fusion_module\n",
        "    )\n",
        "\n",
        "    return {'train_losses': train_losses, 'val_losses': val_losses}\n"
      ]
    },
    {
      "cell_type": "markdown",
      "id": "Dyf7-KlW5H2c",
      "metadata": {
        "id": "Dyf7-KlW5H2c"
      },
      "source": [
        "### Training and Validation Runner\n",
        "\n",
        "Handles the end-to-end training and validation loop over multiple epochs.\n",
        "\n",
        "This function:\n",
        "- Trains the model on the training set and evaluates it on the validation set for each epoch.\n",
        "- Supports optional **Cross-Attention** modules during both training and validation.\n",
        "- Uses the passed optimizer and loss function (InfoNCE or HNAC).\n",
        "- Logs training and validation loss per epoch.\n",
        "- Returns two lists capturing the loss trajectories, enabling comparison and visualization.\n",
        "\n",
        "This is the main loop used by all experimental configurations.\n"
      ]
    },
    {
      "cell_type": "code",
      "execution_count": 20,
      "id": "oLI0fyxxhNzR",
      "metadata": {
        "id": "oLI0fyxxhNzR"
      },
      "outputs": [],
      "source": [
        "def train_and_evaluate_model(clip_model, optimizer, loss_fn, num_epochs,\n",
        "                             train_loader=train_loader, val_loader=val_loader, fusion_module=None):\n",
        "\n",
        "  train_losses = []\n",
        "  val_losses = []\n",
        "\n",
        "  for epoch in range(num_epochs):\n",
        "      train_loss = train_epoch(clip_model, train_loader, optimizer, loss_fn=loss_fn, fusion_module=fusion_module)\n",
        "      val_loss = evaluate(clip_model, val_loader, loss_fn=loss_fn, fusion_module=fusion_module)\n",
        "\n",
        "      train_losses.append(train_loss)\n",
        "      val_losses.append(val_loss)\n",
        "\n",
        "      print(f\"Epoch {epoch+1}/{num_epochs} — Train Loss: {train_loss:.4f}, Validation Loss: {val_loss:.4f}\")\n",
        "\n",
        "  return train_losses, val_losses"
      ]
    },
    {
      "cell_type": "markdown",
      "id": "Z-L5gQgw4gWC",
      "metadata": {
        "id": "Z-L5gQgw4gWC"
      },
      "source": [
        "## Fusion-Based Fine-Tuning\n",
        "\n",
        "We begin by training the ViCLIP model using the **Multimodal Fusion Transformer**, under two loss configurations:\n",
        "\n",
        "- **Fusion + InfoNCE**\n",
        "- **Fusion + HNAC**\n",
        "\n",
        "This setup assesses how effective deeper joint fusion is when training on our limited dataset.\n"
      ]
    },
    {
      "cell_type": "code",
      "execution_count": 22,
      "id": "9TwP42G60OTv",
      "metadata": {
        "id": "9TwP42G60OTv"
      },
      "outputs": [],
      "source": [
        "results = {'Fusion Module with InfoNCE Loss': {}, 'Fusion Module with HNAC Loss': {}}"
      ]
    },
    {
      "cell_type": "code",
      "execution_count": null,
      "id": "0Fcysd7m9vhX",
      "metadata": {
        "colab": {
          "base_uri": "https://localhost:8080/"
        },
        "id": "0Fcysd7m9vhX",
        "outputId": "14d6bd49-58f1-41ff-ea1b-1eb614d647bd"
      },
      "outputs": [
        {
          "name": "stdout",
          "output_type": "stream",
          "text": [
            "Epoch 1/20 — Train Loss: 0.0220, Validation Loss: 0.0046\n",
            "Epoch 2/20 — Train Loss: 0.0037, Validation Loss: 0.0083\n",
            "Epoch 3/20 — Train Loss: 0.0027, Validation Loss: 0.0029\n",
            "Epoch 4/20 — Train Loss: 0.0238, Validation Loss: 0.0032\n",
            "Epoch 5/20 — Train Loss: 0.0023, Validation Loss: 0.0036\n",
            "Epoch 6/20 — Train Loss: 0.0135, Validation Loss: 0.0024\n",
            "Epoch 7/20 — Train Loss: 0.0121, Validation Loss: 0.0041\n",
            "Epoch 8/20 — Train Loss: 0.0047, Validation Loss: 0.0021\n",
            "Epoch 9/20 — Train Loss: 0.0285, Validation Loss: 0.0031\n",
            "Epoch 10/20 — Train Loss: 0.0019, Validation Loss: 0.0029\n",
            "Epoch 11/20 — Train Loss: 0.0241, Validation Loss: 0.0049\n",
            "Epoch 12/20 — Train Loss: 0.0065, Validation Loss: 0.0023\n",
            "Epoch 13/20 — Train Loss: 0.0260, Validation Loss: 0.0024\n",
            "Epoch 14/20 — Train Loss: 0.0121, Validation Loss: 0.0025\n",
            "Epoch 15/20 — Train Loss: 0.0049, Validation Loss: 0.0013\n",
            "Epoch 16/20 — Train Loss: 0.0131, Validation Loss: 0.0022\n",
            "Epoch 17/20 — Train Loss: 0.0087, Validation Loss: 0.0024\n",
            "Epoch 18/20 — Train Loss: 0.0029, Validation Loss: 0.0030\n",
            "Epoch 19/20 — Train Loss: 0.0018, Validation Loss: 0.0013\n",
            "Epoch 20/20 — Train Loss: 0.0251, Validation Loss: 0.0020\n"
          ]
        }
      ],
      "source": [
        "results['Fusion Module with InfoNCE Loss'] = instantiate_and_train_model(num_epochs=20, use_fusion=True, use_hnac_loss=False)"
      ]
    },
    {
      "cell_type": "code",
      "execution_count": null,
      "id": "zxzpko_ZgggO",
      "metadata": {
        "colab": {
          "base_uri": "https://localhost:8080/"
        },
        "id": "zxzpko_ZgggO",
        "outputId": "701b1d83-155f-4899-8f0a-14fc498b68b5"
      },
      "outputs": [
        {
          "name": "stdout",
          "output_type": "stream",
          "text": [
            "Epoch 1/20 — Train Loss: 0.0287, Validation Loss: 0.0021\n",
            "Epoch 2/20 — Train Loss: 0.0211, Validation Loss: 0.0018\n",
            "Epoch 3/20 — Train Loss: 0.0020, Validation Loss: 0.0017\n",
            "Epoch 4/20 — Train Loss: 0.0034, Validation Loss: 0.0012\n",
            "Epoch 5/20 — Train Loss: 0.0032, Validation Loss: 0.0027\n",
            "Epoch 6/20 — Train Loss: 0.0117, Validation Loss: 0.0021\n",
            "Epoch 7/20 — Train Loss: 0.0065, Validation Loss: 0.0015\n",
            "Epoch 8/20 — Train Loss: 0.0016, Validation Loss: 0.0022\n",
            "Epoch 9/20 — Train Loss: 0.0012, Validation Loss: 0.0009\n",
            "Epoch 10/20 — Train Loss: 0.0008, Validation Loss: 0.0013\n",
            "Epoch 11/20 — Train Loss: 0.0006, Validation Loss: 0.0008\n",
            "Epoch 12/20 — Train Loss: 0.0007, Validation Loss: 0.0009\n",
            "Epoch 13/20 — Train Loss: 0.0007, Validation Loss: 0.0017\n",
            "Epoch 14/20 — Train Loss: 0.0129, Validation Loss: 0.0018\n",
            "Epoch 15/20 — Train Loss: 0.0036, Validation Loss: 0.0016\n",
            "Epoch 16/20 — Train Loss: 0.0145, Validation Loss: 0.0026\n",
            "Epoch 17/20 — Train Loss: 0.0099, Validation Loss: 0.0017\n",
            "Epoch 18/20 — Train Loss: 0.0093, Validation Loss: 0.0027\n",
            "Epoch 19/20 — Train Loss: 0.0027, Validation Loss: 0.0025\n",
            "Epoch 20/20 — Train Loss: 0.0086, Validation Loss: 0.0015\n"
          ]
        }
      ],
      "source": [
        "results['Fusion Module with HNAC Loss'] = instantiate_and_train_model(num_epochs=20, use_fusion=True, use_hnac_loss=True)"
      ]
    },
    {
      "cell_type": "markdown",
      "id": "7dYTE1lN6GRe",
      "metadata": {
        "id": "7dYTE1lN6GRe"
      },
      "source": [
        "##  Motivation for Frame Sampling Strategy Experiments\n",
        "\n",
        "Although we observed improved performance using the **Multimodal Fusion Transformer**, video inputs are still limited to a small number of frames per clip.  \n",
        "Thus, *which* frames we choose becomes critical—especially in a low-data setting like ours.\n",
        "\n",
        "To address this, we investigate whether smarter or more diverse **frame sampling strategies** can enhance the model’s ability to:\n",
        "- Extract relevant temporal information,\n",
        "- Improve generalization,\n",
        "- And reduce overfitting to noisy or uninformative frames.\n",
        "\n",
        "We first establish a performance **baseline using Fusion alone** under two loss configurations (InfoNCE and HNAC).\n",
        "\n",
        "---\n",
        "\n",
        "## Fusion-Only Results (No Frame Sampling Modifications)\n",
        "\n",
        "| **Metric**                 | **Fusion + InfoNCE**      | **Fusion + HNAC**         |\n",
        "|---------------------------|---------------------------|---------------------------|\n",
        "| Final Validation Loss     | **0.0020**                  | **0.0015**              |\n",
        "| Best Validation Loss      | **0.0013** (Epoch 15, 19) | **0.0008** (Epoch 11)     |\n",
        "| Peak Performance Epoch(s) | 15, 19                    | 11                        |\n",
        "\n",
        "---\n",
        "\n",
        "## Observations\n",
        "\n",
        "- **Fusion + HNAC outperforms Fusion + InfoNCE** on both best and final validation loss, showing stronger generalization.\n",
        "- The **HNAC configuration shows earlier and more stable convergence**, with validation loss consistently below `0.002` from Epoch 4 onward.\n",
        "- Despite occasional training loss spikes (e.g., Epoch 14 in HNAC), validation loss remained robust — suggesting the **model resists overfitting**.\n",
        "- These results reinforce that while **fusion improves representation quality**, **how we sample the video content remains a critical next frontier** for improvement.\n",
        "\n",
        "This sets the stage for our next experiments, where we modify the **temporal input** through various frame extraction strategies and compare their impact.\n"
      ]
    },
    {
      "cell_type": "markdown",
      "id": "45KI8tc-4osq",
      "metadata": {
        "id": "45KI8tc-4osq"
      },
      "source": [
        "##  Frame Sampling Strategies\n",
        "\n",
        "To explore the impact of temporal information, we implement and evaluate five frame extraction modes:\n",
        "\n",
        "- **Default**: every frame in sequence\n",
        "- **Mean**: average frame repeated\n",
        "- **Keyframes**: first, middle, last\n",
        "- **Weighted**: randomly weighted sampling\n",
        "- **Dropout**: random dropout of frames\n",
        "\n",
        "To ensure consistent input dimensions, any resulting video clip with fewer than 8 frames will be padded to reach a required length of 8 frames.\n",
        "\n",
        "These variations help evaluate whether smarter sampling can boost model generalization or robustness.\n"
      ]
    },
    {
      "cell_type": "code",
      "execution_count": 23,
      "id": "-4XexOocKfMW",
      "metadata": {
        "id": "-4XexOocKfMW"
      },
      "outputs": [],
      "source": [
        "def extract_default(video):\n",
        "    frames = []\n",
        "    while True:\n",
        "        success, frame = video.read()\n",
        "        if not success:\n",
        "            break\n",
        "        frames.append(frame)\n",
        "    return frames\n",
        "\n",
        "def extract_mean(video):\n",
        "    frames = extract_default(video)\n",
        "    if not frames:\n",
        "        return [np.zeros((224, 224, 3), dtype=np.uint8)] * 8\n",
        "    mean_frame = np.mean(np.stack(frames), axis=0).astype(np.uint8)\n",
        "    return [mean_frame] * 8\n",
        "\n",
        "def extract_keyframes(video):\n",
        "    frames = extract_default(video)\n",
        "    if not frames:\n",
        "        return [np.zeros((224, 224, 3), dtype=np.uint8)] * 8\n",
        "\n",
        "    n = len(frames)\n",
        "    indices = [0, n // 2, n - 1]\n",
        "    selected = [frames[i] for i in indices if i < n]\n",
        "\n",
        "    # Pad to 8 frames\n",
        "    while len(selected) < 8:\n",
        "        selected.append(selected[-1])\n",
        "\n",
        "    return selected[:8]\n",
        "\n",
        "\n",
        "def extract_weighted(video):\n",
        "    frames = extract_default(video)\n",
        "    if not frames:\n",
        "        return [np.zeros((224, 224, 3), dtype=np.uint8)] * 8\n",
        "    n = len(frames)\n",
        "    weights = np.linspace(1.0, 2.0, num=n)\n",
        "    probs = weights / weights.sum()\n",
        "    selected = np.random.choice(range(n), size=min(8, n), p=probs, replace=False)\n",
        "    return [frames[i] for i in sorted(selected)]\n",
        "\n",
        "def extract_dropout(video, drop_rate=0.3):\n",
        "    frames = extract_default(video)\n",
        "    if not frames:\n",
        "        return [np.zeros((224, 224, 3), dtype=np.uint8)] * 8\n",
        "    n = len(frames)\n",
        "    keep_n = max(1, int((1 - drop_rate) * n))\n",
        "    indices = sorted(random.sample(range(n), k=keep_n))\n",
        "    selected = [frames[i] for i in indices]\n",
        "    while len(selected) < 8:\n",
        "        selected.append(selected[-1])\n",
        "    return selected[:8]\n",
        "\n",
        "# Map modes to functions\n",
        "frame_extractors = {\n",
        "    'default': extract_default,\n",
        "    'mean': extract_mean,\n",
        "    'keyframes': extract_keyframes,\n",
        "    'weighted': extract_weighted,\n",
        "    'dropout': extract_dropout\n",
        "}"
      ]
    },
    {
      "cell_type": "markdown",
      "id": "NIw6Y5PK6qgn",
      "metadata": {
        "id": "NIw6Y5PK6qgn"
      },
      "source": [
        "### Custom Dataloaders & Model Instantiation (Per Frame Mode)\n",
        "\n",
        "With the introduction of **frame sampling strategies**, our training pipeline needed to dynamically adjust to each extraction mode. This required two key changes:\n",
        "\n",
        "---\n",
        "\n",
        "#### `build_dataloaders(frame_mode)`\n",
        "- Replaces the static DataLoader setup used earlier.\n",
        "- Accepts a frame mode string such as **default**, **mean**, **keyframes**, etc.\n",
        "- Automatically selects the appropriate frame extractor function.\n",
        "- Returns `train_loader` and `val_loader` tailored to the selected mode.\n",
        "\n",
        "---\n",
        "\n",
        "####  `instantiate_and_train_model(...)`\n",
        "- An upgraded version of our earlier model training function.\n",
        "- Accepts:\n",
        "  - `frame_mode` – the frame extraction method to use\n",
        "  - `use_fusion` – whether to apply the fusion transformer\n",
        "  - `use_hnac_loss` – whether to use the HNAC loss function\n",
        "- Internally calls `build_dataloaders(...)` to prepare the data.\n",
        "- Trains the ViCLIP model using the specified configuration.\n",
        "- Returns training and validation loss curves, as well as the trained model itself.\n",
        "\n",
        "---\n",
        "\n",
        "These changes make the pipeline **modular**, **scalable**, and ideal for evaluating different frame sampling techniques without duplicating code or logic.\n"
      ]
    },
    {
      "cell_type": "code",
      "execution_count": 24,
      "id": "wVHLFU0iKi7x",
      "metadata": {
        "id": "wVHLFU0iKi7x"
      },
      "outputs": [],
      "source": [
        "def build_dataloaders(frame_mode, batch_size=4):\n",
        "    extractor = frame_extractors[frame_mode]\n",
        "\n",
        "    train_ds = VideoCaptionDataset(train_df, video_dir, extractor)\n",
        "    val_ds   = VideoCaptionDataset(val_df,  video_dir, extractor)\n",
        "\n",
        "    train_loader = DataLoader(train_ds, batch_size=batch_size, shuffle=True,  num_workers=0, collate_fn=custom_collate)\n",
        "    val_loader   = DataLoader(val_ds,   batch_size=batch_size, shuffle=False, num_workers=0, collate_fn=custom_collate)\n",
        "\n",
        "    return train_loader, val_loader"
      ]
    },
    {
      "cell_type": "code",
      "execution_count": 25,
      "id": "lYnoBYdiKl01",
      "metadata": {
        "id": "lYnoBYdiKl01"
      },
      "outputs": [],
      "source": [
        "def instantiate_and_train_model(num_epochs, frame_mode, use_fusion, use_hnac_loss):\n",
        "\n",
        "    train_loader, val_loader = build_dataloaders(frame_mode)\n",
        "\n",
        "    clear_cuda()\n",
        "    cfg = model_cfgs['viclip-b-internvid-10m-flt']\n",
        "    model_dict = get_viclip(cfg['size'], cfg['pretrained'])\n",
        "    clip_model = model_dict['viclip'].to(device)\n",
        "\n",
        "    fusion_module = MultimodalFusionTransformer(embed_dim=clip_model.embed_dim).to(device) if use_fusion else None\n",
        "\n",
        "    for p in clip_model.vision_encoder.parameters():\n",
        "        p.requires_grad = True\n",
        "\n",
        "    optimizer = torch.optim.AdamW(clip_model.parameters(), lr=2e-5, weight_decay=0.02)\n",
        "\n",
        "    loss_fn = HardNegativeAwareContrastiveLoss(temperature=0.07) if use_hnac_loss else clip_loss\n",
        "\n",
        "    train_losses, val_losses = train_and_evaluate_model(\n",
        "        clip_model, optimizer, loss_fn,\n",
        "        num_epochs=num_epochs,\n",
        "        train_loader=train_loader,\n",
        "        val_loader=val_loader,\n",
        "        fusion_module=fusion_module\n",
        "    )\n",
        "\n",
        "    return {\n",
        "        'train_losses': train_losses,\n",
        "        'val_losses': val_losses,\n",
        "        'model': clip_model\n",
        "    }\n"
      ]
    },
    {
      "cell_type": "markdown",
      "id": "CSIOjrkl4zRc",
      "metadata": {
        "id": "CSIOjrkl4zRc"
      },
      "source": [
        "## Experimental Runs Across Modes & Losses\n",
        "\n",
        "We train the fusion-enhanced ViCLIP model using **each frame mode**, combined with both:\n",
        "- InfoNCE loss\n",
        "- HNAC loss\n",
        "\n",
        "This results in 10 total configurations, with performance logged per epoch. Best-performing models are saved for future evaluation.\n"
      ]
    },
    {
      "cell_type": "code",
      "execution_count": 26,
      "id": "-QUqCxikKo6q",
      "metadata": {
        "id": "-QUqCxikKo6q"
      },
      "outputs": [],
      "source": [
        "results = {}\n",
        "modes = ['default', 'mean', 'keyframes', 'weighted', 'dropout']"
      ]
    },
    {
      "cell_type": "markdown",
      "id": "YlmMJb7d66DR",
      "metadata": {
        "id": "YlmMJb7d66DR"
      },
      "source": [
        "### Default\n",
        "\n",
        "We evaluate the model using the **default** frame extraction method, which samples all available frames sequentially.  \n",
        "This provides the model with the full visual context of each video, making it the most information-rich baseline.\n"
      ]
    },
    {
      "cell_type": "code",
      "execution_count": 35,
      "id": "E3leczEhRAif",
      "metadata": {
        "colab": {
          "base_uri": "https://localhost:8080/"
        },
        "id": "E3leczEhRAif",
        "outputId": "3b3162bf-4d47-40cf-89ad-aca8e42f7a4a"
      },
      "outputs": [
        {
          "name": "stdout",
          "output_type": "stream",
          "text": [
            "Training: DEFAULT | InfoNCE\n",
            "Epoch 1/10 — Train Loss: 0.0092, Validation Loss: 0.0016\n",
            "Epoch 2/10 — Train Loss: 0.0023, Validation Loss: 0.0026\n",
            "Epoch 3/10 — Train Loss: 0.0015, Validation Loss: 0.0020\n",
            "Epoch 4/10 — Train Loss: 0.0234, Validation Loss: 0.0019\n",
            "Epoch 5/10 — Train Loss: 0.0032, Validation Loss: 0.0015\n",
            "Epoch 6/10 — Train Loss: 0.0151, Validation Loss: 0.0014\n",
            "Epoch 7/10 — Train Loss: 0.0021, Validation Loss: 0.0024\n",
            "Epoch 8/10 — Train Loss: 0.0015, Validation Loss: 0.0016\n",
            "Epoch 9/10 — Train Loss: 0.0376, Validation Loss: 0.0012\n",
            "Epoch 10/10 — Train Loss: 0.0117, Validation Loss: 0.0042\n"
          ]
        }
      ],
      "source": [
        "print(\"Training: DEFAULT | InfoNCE\")\n",
        "results_default_infonce = instantiate_and_train_model(\n",
        "    num_epochs=10,\n",
        "    frame_mode='default',\n",
        "    use_fusion=True,\n",
        "    use_hnac_loss=False\n",
        ")\n",
        "torch.save(results_default_infonce['model'].state_dict(), 'default_infonce_model.pth')\n",
        "clear_cuda()"
      ]
    },
    {
      "cell_type": "code",
      "execution_count": 36,
      "id": "em-3YPoHRCC_",
      "metadata": {
        "colab": {
          "base_uri": "https://localhost:8080/"
        },
        "id": "em-3YPoHRCC_",
        "outputId": "eb598e23-1118-4d07-89bd-5ca2dbc862ea"
      },
      "outputs": [
        {
          "name": "stdout",
          "output_type": "stream",
          "text": [
            "Training: DEFAULT | HNAC\n",
            "Epoch 1/10 — Train Loss: 0.0096, Validation Loss: 0.0009\n",
            "Epoch 2/10 — Train Loss: 0.0137, Validation Loss: 0.0009\n",
            "Epoch 3/10 — Train Loss: 0.0075, Validation Loss: 0.0008\n",
            "Epoch 4/10 — Train Loss: 0.0011, Validation Loss: 0.0007\n",
            "Epoch 5/10 — Train Loss: 0.0007, Validation Loss: 0.0012\n",
            "Epoch 6/10 — Train Loss: 0.0006, Validation Loss: 0.0005\n",
            "Epoch 7/10 — Train Loss: 0.0006, Validation Loss: 0.0005\n",
            "Epoch 8/10 — Train Loss: 0.0167, Validation Loss: 0.0006\n",
            "Epoch 9/10 — Train Loss: 0.0007, Validation Loss: 0.0011\n",
            "Epoch 10/10 — Train Loss: 0.0015, Validation Loss: 0.0007\n"
          ]
        }
      ],
      "source": [
        "print(\"Training: DEFAULT | HNAC\")\n",
        "results_default_hnac = instantiate_and_train_model(\n",
        "    num_epochs=10,\n",
        "    frame_mode='default',\n",
        "    use_fusion=True,\n",
        "    use_hnac_loss=True\n",
        ")\n",
        "torch.save(results_default_hnac['model'].state_dict(), 'default_hnac_model.pth')\n",
        "clear_cuda()\n"
      ]
    },
    {
      "cell_type": "markdown",
      "id": "F_D_Em_w69rO",
      "metadata": {
        "id": "F_D_Em_w69rO"
      },
      "source": [
        "### Mean\n",
        "\n",
        "We evaluate the model using the **mean** frame strategy, which computes a single average frame across the video and replicates it.  \n",
        "This simulates a heavily compressed temporal input and tests the model’s ability to learn from minimal motion cues.\n"
      ]
    },
    {
      "cell_type": "code",
      "execution_count": 26,
      "id": "nfvd1XuURL5t",
      "metadata": {
        "colab": {
          "base_uri": "https://localhost:8080/"
        },
        "id": "nfvd1XuURL5t",
        "outputId": "c8fef6ae-99c6-4791-edef-c8cddc071163"
      },
      "outputs": [
        {
          "name": "stdout",
          "output_type": "stream",
          "text": [
            "Training: MEAN | InfoNCE\n",
            "Epoch 1/10 — Train Loss: 0.0427, Validation Loss: 0.0045\n",
            "Epoch 2/10 — Train Loss: 0.0051, Validation Loss: 0.0023\n",
            "Epoch 3/10 — Train Loss: 0.0026, Validation Loss: 0.0020\n",
            "Epoch 4/10 — Train Loss: 0.0266, Validation Loss: 0.0016\n",
            "Epoch 5/10 — Train Loss: 0.0187, Validation Loss: 0.0022\n",
            "Epoch 6/10 — Train Loss: 0.0061, Validation Loss: 0.0020\n",
            "Epoch 7/10 — Train Loss: 0.0157, Validation Loss: 0.0020\n",
            "Epoch 8/10 — Train Loss: 0.0017, Validation Loss: 0.0011\n",
            "Epoch 9/10 — Train Loss: 0.0083, Validation Loss: 0.0016\n",
            "Epoch 10/10 — Train Loss: 0.0551, Validation Loss: 0.0057\n"
          ]
        }
      ],
      "source": [
        "print(\"Training: MEAN | InfoNCE\")\n",
        "results_mean_infonce = instantiate_and_train_model(\n",
        "    num_epochs=10,\n",
        "    frame_mode='mean',\n",
        "    use_fusion=True,\n",
        "    use_hnac_loss=False\n",
        ")\n",
        "torch.save(results_mean_infonce['model'].state_dict(), 'mean_infonce_model.pth')\n",
        "clear_cuda()"
      ]
    },
    {
      "cell_type": "code",
      "execution_count": 27,
      "id": "3_CP2wG9ROoc",
      "metadata": {
        "colab": {
          "base_uri": "https://localhost:8080/"
        },
        "id": "3_CP2wG9ROoc",
        "outputId": "67cb7a6e-53c1-4bf3-c702-ba83b5bbd5ae"
      },
      "outputs": [
        {
          "name": "stdout",
          "output_type": "stream",
          "text": [
            "Training: MEAN | HNAC\n",
            "Epoch 1/10 — Train Loss: 0.0121, Validation Loss: 0.0012\n",
            "Epoch 2/10 — Train Loss: 0.0158, Validation Loss: 0.0007\n",
            "Epoch 3/10 — Train Loss: 0.0122, Validation Loss: 0.0008\n",
            "Epoch 4/10 — Train Loss: 0.0203, Validation Loss: 0.0032\n",
            "Epoch 5/10 — Train Loss: 0.0031, Validation Loss: 0.0015\n",
            "Epoch 6/10 — Train Loss: 0.0032, Validation Loss: 0.0004\n",
            "Epoch 7/10 — Train Loss: 0.0121, Validation Loss: 0.0009\n",
            "Epoch 8/10 — Train Loss: 0.0186, Validation Loss: 0.0008\n",
            "Epoch 9/10 — Train Loss: 0.0018, Validation Loss: 0.0008\n",
            "Epoch 10/10 — Train Loss: 0.0035, Validation Loss: 0.0005\n"
          ]
        }
      ],
      "source": [
        "print(\"Training: MEAN | HNAC\")\n",
        "results_mean_hnac = instantiate_and_train_model(\n",
        "    num_epochs=10,\n",
        "    frame_mode='mean',\n",
        "    use_fusion=True,\n",
        "    use_hnac_loss=True\n",
        ")\n",
        "torch.save(results_mean_hnac['model'].state_dict(), 'mean_hnac_model.pth')\n",
        "clear_cuda()"
      ]
    },
    {
      "cell_type": "markdown",
      "id": "CNceIMKs7Aq7",
      "metadata": {
        "id": "CNceIMKs7Aq7"
      },
      "source": [
        "###  Keyframes\n",
        "\n",
        "We evaluate the model using the **keyframes** strategy, which selects the first, middle, and last frames of each video.  \n",
        "This distills the video into 3 representative temporal slices, helping the model focus on structural progression.\n"
      ]
    },
    {
      "cell_type": "code",
      "execution_count": 30,
      "id": "KMwZTd50RSqv",
      "metadata": {
        "colab": {
          "base_uri": "https://localhost:8080/"
        },
        "id": "KMwZTd50RSqv",
        "outputId": "cefc42f1-38dd-4166-f071-e2c16e0f7145"
      },
      "outputs": [
        {
          "name": "stdout",
          "output_type": "stream",
          "text": [
            "Training: KEYFRAMES | InfoNCE\n",
            "Epoch 1/10 — Train Loss: 0.0135, Validation Loss: 0.0019\n",
            "Epoch 2/10 — Train Loss: 0.0048, Validation Loss: 0.0007\n",
            "Epoch 3/10 — Train Loss: 0.0016, Validation Loss: 0.0009\n",
            "Epoch 4/10 — Train Loss: 0.0015, Validation Loss: 0.0012\n",
            "Epoch 5/10 — Train Loss: 0.0260, Validation Loss: 0.0015\n",
            "Epoch 6/10 — Train Loss: 0.0018, Validation Loss: 0.0009\n",
            "Epoch 7/10 — Train Loss: 0.0013, Validation Loss: 0.0010\n",
            "Epoch 8/10 — Train Loss: 0.0013, Validation Loss: 0.0012\n",
            "Epoch 9/10 — Train Loss: 0.0007, Validation Loss: 0.0013\n",
            "Epoch 10/10 — Train Loss: 0.0012, Validation Loss: 0.0010\n"
          ]
        }
      ],
      "source": [
        "print(\"Training: KEYFRAMES | InfoNCE\")\n",
        "results_keyframes_infonce = instantiate_and_train_model(\n",
        "    num_epochs=10,\n",
        "    frame_mode='keyframes',\n",
        "    use_fusion=True,\n",
        "    use_hnac_loss=False\n",
        ")\n",
        "torch.save(results_keyframes_infonce['model'].state_dict(), 'keyframes_infonce_model.pth')\n",
        "clear_cuda()"
      ]
    },
    {
      "cell_type": "code",
      "execution_count": 25,
      "id": "nV-tfRxMRWxR",
      "metadata": {
        "colab": {
          "base_uri": "https://localhost:8080/"
        },
        "id": "nV-tfRxMRWxR",
        "outputId": "1ee3a209-2038-48de-f0aa-4d725c21531a"
      },
      "outputs": [
        {
          "name": "stdout",
          "output_type": "stream",
          "text": [
            "Training: KEYFRAMES | HNAC\n",
            "Epoch 1/10 — Train Loss: 0.0240, Validation Loss: 0.0024\n",
            "Epoch 2/10 — Train Loss: 0.0131, Validation Loss: 0.0018\n",
            "Epoch 3/10 — Train Loss: 0.0021, Validation Loss: 0.0026\n",
            "Epoch 4/10 — Train Loss: 0.0020, Validation Loss: 0.0018\n",
            "Epoch 5/10 — Train Loss: 0.0011, Validation Loss: 0.0015\n",
            "Epoch 6/10 — Train Loss: 0.0008, Validation Loss: 0.0020\n",
            "Epoch 7/10 — Train Loss: 0.0007, Validation Loss: 0.0011\n",
            "Epoch 8/10 — Train Loss: 0.0011, Validation Loss: 0.0018\n",
            "Epoch 9/10 — Train Loss: 0.0069, Validation Loss: 0.0015\n",
            "Epoch 10/10 — Train Loss: 0.0016, Validation Loss: 0.0018\n"
          ]
        }
      ],
      "source": [
        "print(\"Training: KEYFRAMES | HNAC\")\n",
        "results_keyframes_hnac = instantiate_and_train_model(\n",
        "    num_epochs=10,\n",
        "    frame_mode='keyframes',\n",
        "    use_fusion=True,\n",
        "    use_hnac_loss=True\n",
        ")\n",
        "torch.save(results_keyframes_hnac['model'].state_dict(), 'keyframes_hnac_model.pth')\n",
        "clear_cuda()"
      ]
    },
    {
      "cell_type": "markdown",
      "id": "NHWxe-Pv7Db8",
      "metadata": {
        "id": "NHWxe-Pv7Db8"
      },
      "source": [
        "### Weighted\n",
        "\n",
        "Here we use a **weighted** sampling strategy that biases frame selection toward later parts of the video.  \n",
        "The goal is to capture potentially more informative moments toward the end of each clip.\n"
      ]
    },
    {
      "cell_type": "code",
      "execution_count": 26,
      "id": "GKuo1TqnRZIf",
      "metadata": {
        "colab": {
          "base_uri": "https://localhost:8080/"
        },
        "id": "GKuo1TqnRZIf",
        "outputId": "9d6e0922-3aa8-4751-c24c-60357be13f11"
      },
      "outputs": [
        {
          "name": "stdout",
          "output_type": "stream",
          "text": [
            "Training: WEIGHTED | InfoNCE\n",
            "Epoch 1/10 — Train Loss: 0.0241, Validation Loss: 0.0020\n",
            "Epoch 2/10 — Train Loss: 0.0227, Validation Loss: 0.0030\n",
            "Epoch 3/10 — Train Loss: 0.0258, Validation Loss: 0.0041\n",
            "Epoch 4/10 — Train Loss: 0.0034, Validation Loss: 0.0033\n",
            "Epoch 5/10 — Train Loss: 0.0012, Validation Loss: 0.0023\n",
            "Epoch 6/10 — Train Loss: 0.0025, Validation Loss: 0.0034\n",
            "Epoch 7/10 — Train Loss: 0.0131, Validation Loss: 0.0016\n",
            "Epoch 8/10 — Train Loss: 0.0240, Validation Loss: 0.0023\n",
            "Epoch 9/10 — Train Loss: 0.0241, Validation Loss: 0.0023\n",
            "Epoch 10/10 — Train Loss: 0.0225, Validation Loss: 0.0035\n"
          ]
        }
      ],
      "source": [
        "print(\"Training: WEIGHTED | InfoNCE\")\n",
        "results_weighted_infonce = instantiate_and_train_model(\n",
        "    num_epochs=10,\n",
        "    frame_mode='weighted',\n",
        "    use_fusion=True,\n",
        "    use_hnac_loss=False\n",
        ")\n",
        "# torch.save(results_weighted_infonce['model'].state_dict(), 'weighted_infonce_model.pth')\n",
        "clear_cuda()"
      ]
    },
    {
      "cell_type": "code",
      "execution_count": 27,
      "id": "c2cFQZCHRaln",
      "metadata": {
        "colab": {
          "base_uri": "https://localhost:8080/"
        },
        "id": "c2cFQZCHRaln",
        "outputId": "fc4cc485-6ca3-4a6f-81be-56bebb8894a7"
      },
      "outputs": [
        {
          "name": "stdout",
          "output_type": "stream",
          "text": [
            "Training: WEIGHTED | HNAC\n",
            "Epoch 1/10 — Train Loss: 0.0094, Validation Loss: 0.0019\n",
            "Epoch 2/10 — Train Loss: 0.0020, Validation Loss: 0.0018\n",
            "Epoch 3/10 — Train Loss: 0.0132, Validation Loss: 0.0022\n",
            "Epoch 4/10 — Train Loss: 0.0193, Validation Loss: 0.0018\n",
            "Epoch 5/10 — Train Loss: 0.0092, Validation Loss: 0.0015\n",
            "Epoch 6/10 — Train Loss: 0.0030, Validation Loss: 0.0027\n",
            "Epoch 7/10 — Train Loss: 0.0014, Validation Loss: 0.0027\n",
            "Epoch 8/10 — Train Loss: 0.0088, Validation Loss: 0.0017\n",
            "Epoch 9/10 — Train Loss: 0.0049, Validation Loss: 0.0011\n",
            "Epoch 10/10 — Train Loss: 0.0018, Validation Loss: 0.0016\n"
          ]
        }
      ],
      "source": [
        "print(\"Training: WEIGHTED | HNAC\")\n",
        "results_weighted_hnac = instantiate_and_train_model(\n",
        "    num_epochs=10,\n",
        "    frame_mode='weighted',\n",
        "    use_fusion=True,\n",
        "    use_hnac_loss=True\n",
        ")\n",
        "# torch.save(results_weighted_hnac['model'].state_dict(), 'weighted_hnac_model.pth')\n",
        "clear_cuda()"
      ]
    },
    {
      "cell_type": "markdown",
      "id": "TotT7pWu7H6A",
      "metadata": {
        "id": "TotT7pWu7H6A"
      },
      "source": [
        "### Dropout\n",
        "\n",
        "We randomly **drop frames** from the video sequence in this run, simulating occlusion or missing data.  \n",
        "This tests the model’s resilience to incomplete temporal input.\n"
      ]
    },
    {
      "cell_type": "code",
      "execution_count": 27,
      "id": "mrtGvdqhRcCp",
      "metadata": {
        "colab": {
          "base_uri": "https://localhost:8080/"
        },
        "id": "mrtGvdqhRcCp",
        "outputId": "a081e9ae-f5f6-4f57-b6c3-76663d97ec9e"
      },
      "outputs": [
        {
          "name": "stdout",
          "output_type": "stream",
          "text": [
            "Training: DROPOUT | InfoNCE\n",
            "Epoch 1/10 — Train Loss: 0.0104, Validation Loss: 0.0031\n",
            "Epoch 2/10 — Train Loss: 0.0043, Validation Loss: 0.0024\n",
            "Epoch 3/10 — Train Loss: 0.0014, Validation Loss: 0.0024\n",
            "Epoch 4/10 — Train Loss: 0.0011, Validation Loss: 0.0022\n",
            "Epoch 5/10 — Train Loss: 0.0011, Validation Loss: 0.0018\n",
            "Epoch 6/10 — Train Loss: 0.0009, Validation Loss: 0.0016\n",
            "Epoch 7/10 — Train Loss: 0.0006, Validation Loss: 0.0017\n",
            "Epoch 8/10 — Train Loss: 0.0013, Validation Loss: 0.0008\n",
            "Epoch 9/10 — Train Loss: 0.0006, Validation Loss: 0.0012\n",
            "Epoch 10/10 — Train Loss: 0.0209, Validation Loss: 0.0043\n"
          ]
        }
      ],
      "source": [
        "print(\"Training: DROPOUT | InfoNCE\")\n",
        "results_dropout_infonce = instantiate_and_train_model(\n",
        "    num_epochs=10,\n",
        "    frame_mode='dropout',\n",
        "    use_fusion=True,\n",
        "    use_hnac_loss=False\n",
        ")\n",
        "torch.save(results_dropout_infonce['model'].state_dict(), 'dropout_infonce_model.pth')\n",
        "clear_cuda()"
      ]
    },
    {
      "cell_type": "code",
      "execution_count": 28,
      "id": "nm7bmxHXRdO0",
      "metadata": {
        "colab": {
          "base_uri": "https://localhost:8080/"
        },
        "id": "nm7bmxHXRdO0",
        "outputId": "3a01fa27-698d-41bf-b1f1-634768cb1619"
      },
      "outputs": [
        {
          "name": "stdout",
          "output_type": "stream",
          "text": [
            "Training: DROPOUT | HNAC\n",
            "Epoch 1/10 — Train Loss: 0.0063, Validation Loss: 0.0044\n",
            "Epoch 2/10 — Train Loss: 0.0120, Validation Loss: 0.0020\n",
            "Epoch 3/10 — Train Loss: 0.0016, Validation Loss: 0.0017\n",
            "Epoch 4/10 — Train Loss: 0.0084, Validation Loss: 0.0013\n",
            "Epoch 5/10 — Train Loss: 0.0011, Validation Loss: 0.0018\n",
            "Epoch 6/10 — Train Loss: 0.0212, Validation Loss: 0.0036\n",
            "Epoch 7/10 — Train Loss: 0.0080, Validation Loss: 0.0042\n",
            "Epoch 8/10 — Train Loss: 0.0146, Validation Loss: 0.0048\n",
            "Epoch 9/10 — Train Loss: 0.0219, Validation Loss: 0.0182\n",
            "Epoch 10/10 — Train Loss: 0.0082, Validation Loss: 0.0039\n"
          ]
        }
      ],
      "source": [
        "print(\"Training: DROPOUT | HNAC\")\n",
        "results_dropout_hnac = instantiate_and_train_model(\n",
        "    num_epochs=10,\n",
        "    frame_mode='dropout',\n",
        "    use_fusion=True,\n",
        "    use_hnac_loss=True\n",
        ")\n",
        "torch.save(results_dropout_hnac['model'].state_dict(), 'dropout_hnac_model.pth')\n",
        "clear_cuda()"
      ]
    },
    {
      "cell_type": "markdown",
      "id": "-0FANTb044zu",
      "metadata": {
        "id": "-0FANTb044zu"
      },
      "source": [
        "## Validation Loss Visualization\n",
        "\n",
        "We plot the **validation loss curves** for all frame modes across both loss functions. This allows for quick comparison of how:\n",
        "- Frame sampling strategy\n",
        "- Choice of loss (InfoNCE vs. HNAC)\n",
        "\n",
        "affect convergence and generalization.\n"
      ]
    },
    {
      "cell_type": "code",
      "execution_count": 33,
      "id": "vn0JvLFFdLam",
      "metadata": {
        "colab": {
          "base_uri": "https://localhost:8080/",
          "height": 507
        },
        "id": "vn0JvLFFdLam",
        "outputId": "5f5c4554-30fc-48cb-b82e-f9bf3f13a769"
      },
      "outputs": [
        {
          "data": {
            "image/png": "[encoded data removed]",
            "text/plain": [
              "<Figure size 1000x500 with 1 Axes>"
            ]
          },
          "metadata": {},
          "output_type": "display_data"
        }
      ],
      "source": [
        "# Rewriting the InfoNCE validation losses in the same format as HNAC\n",
        "\n",
        "infonce_val_losses = {\n",
        "    \"default\": [0.0016, 0.0026, 0.0020, 0.0019, 0.0015, 0.0014, 0.0024, 0.0016, 0.0012, 0.0042],\n",
        "    \"mean\":    [0.0045, 0.0023, 0.0020, 0.0016, 0.0022, 0.0020, 0.0020, 0.0011, 0.0016, 0.0057],\n",
        "    \"keyframes\": [0.0019, 0.0007, 0.0009, 0.0012, 0.0015, 0.0009, 0.0010, 0.0012, 0.0013, 0.0010],\n",
        "    \"weighted\":  [0.0020, 0.0030, 0.0041, 0.0033, 0.0023, 0.0034, 0.0016, 0.0023, 0.0023, 0.0035],\n",
        "    \"dropout\":   [0.0031, 0.0024, 0.0024, 0.0022, 0.0018, 0.0016, 0.0017, 0.0008, 0.0012, 0.0043]\n",
        "}\n",
        "\n",
        "# Plot InfoNCE validation losses in consistent format\n",
        "plt.figure(figsize=(10, 5))\n",
        "for mode, val_loss in infonce_val_losses.items():\n",
        "    plt.plot(val_loss, label=f'{mode}')\n",
        "\n",
        "plt.title(\"InfoNCE Validation Loss Across Modes\")\n",
        "plt.xlabel(\"Epoch\")\n",
        "plt.ylabel(\"Validation Loss\")\n",
        "plt.grid(True)\n",
        "plt.legend(title=\"Mode\")\n",
        "plt.tight_layout()\n",
        "plt.show()"
      ]
    },
    {
      "cell_type": "code",
      "execution_count": 32,
      "id": "9ilm-8PWe3Ya",
      "metadata": {
        "colab": {
          "base_uri": "https://localhost:8080/",
          "height": 507
        },
        "id": "9ilm-8PWe3Ya",
        "outputId": "9703042c-2e22-40a1-e9e5-1ea7faf8a17f"
      },
      "outputs": [
        {
          "data": {
            "image/png": "[encoded data removed]",
            "text/plain": [
              "<Figure size 1000x500 with 1 Axes>"
            ]
          },
          "metadata": {},
          "output_type": "display_data"
        }
      ],
      "source": [
        "# Define the validation losses for HNAC\n",
        "hnac_losses = {\n",
        "    \"default\": [0.0009, 0.0009, 0.0008, 0.0007, 0.0012, 0.0005, 0.0005, 0.0006, 0.0011, 0.0007],\n",
        "    \"mean\":    [0.0012, 0.0007, 0.0008, 0.0032, 0.0015, 0.0004, 0.0009, 0.0008, 0.0008, 0.0005],\n",
        "    \"keyframes\": [0.0024, 0.0018, 0.0026, 0.0018, 0.0015, 0.0020, 0.0011, 0.0018, 0.0015, 0.0018],\n",
        "    \"weighted\":  [0.0019, 0.0018, 0.0022, 0.0018, 0.0015, 0.0027, 0.0027, 0.0017, 0.0011, 0.0016],\n",
        "    \"dropout\":   [0.0044, 0.0020, 0.0017, 0.0013, 0.0018, 0.0036, 0.0042, 0.0048, 0.0182, 0.0039]\n",
        "}\n",
        "\n",
        "# Plot HNAC validation losses\n",
        "plt.figure(figsize=(10, 5))\n",
        "for mode, val_loss in hnac_losses.items():\n",
        "    plt.plot(val_loss, label=f'{mode}')\n",
        "\n",
        "plt.title(\"HNAC Validation Loss Across Modes\")\n",
        "plt.xlabel(\"Epoch\")\n",
        "plt.ylabel(\"Validation Loss\")\n",
        "plt.grid(True)\n",
        "plt.legend(title=\"Mode\")\n",
        "plt.tight_layout()\n",
        "plt.show()"
      ]
    },
    {
      "cell_type": "markdown",
      "id": "_4X1TxhS9L8I",
      "metadata": {
        "id": "_4X1TxhS9L8I"
      },
      "source": [
        "## Final Evaluation & Insights\n",
        "\n",
        "After exploring fusion-enhanced ViCLIP models with five different **frame sampling strategies** and two contrastive **loss functions (InfoNCE & HNAC)**, we arrive at several key conclusions.\n",
        "\n",
        "---\n",
        "\n",
        "### Summary of Best Validation Losses\n",
        "\n",
        "| Frame Mode | Best Val Loss (InfoNCE) | Best Val Loss (HNAC) | Winner |\n",
        "|------------|--------------------------|------------------------|--------|\n",
        "| **Default**   | 0.0012 (Epoch 9)          | **0.0005** (Epoch 6/7)     | 🟢 HNAC |\n",
        "| **Mean**      | 0.0011 (Epoch 8)          | **0.0004** (Epoch 6)       | 🟢 HNAC |\n",
        "| **Keyframes** | **0.0007** (Epoch 2)      | 0.0011 (Epoch 7)           | 🟢 InfoNCE |\n",
        "| **Weighted**  | **0.0016** (Epoch 7)      | 0.0011 (Epoch 9)           | 🟢 HNAC |\n",
        "| **Dropout**   | **0.0008** (Epoch 8)      | 0.0013 (Epoch 4)           | 🟢 InfoNCE |\n",
        "\n",
        "---\n",
        "\n",
        "### Key Observations\n",
        "\n",
        "- **HNAC Generally Outperforms InfoNCE**: In most modes, especially `default`, `mean`, and `weighted`, the HNAC loss leads to lower and more stable validation losses, confirming its advantage in handling false negatives.\n",
        "  \n",
        "- **Frame Strategy Matters**: While `default` and `mean` were strong overall, **keyframes** and **dropout** performed surprisingly well with InfoNCE—suggesting that temporal compression can still be effective if representative moments are preserved.\n",
        "\n",
        "- **Instability in Dropout (HNAC)**: The `dropout` strategy combined with HNAC led to significant fluctuations (e.g., validation loss spiked to 0.0182 in Epoch 9), highlighting its brittleness under high-variance input conditions.\n",
        "\n",
        "- **Fusion as a Backbone**: Across all runs, the **multimodal fusion transformer** contributed to strong convergence even in shallow training (10 epochs). This validates its use as a stable feature aggregator across varying frame inputs.\n",
        "\n",
        "---\n",
        "\n",
        "### Final Takeaways\n",
        "\n",
        "- The **best performing configuration overall** was `mean` frame sampling with **HNAC loss**, achieving a **lowest validation loss of 0.0004**.\n",
        "- Simpler strategies like **keyframes** also demonstrated strong potential under InfoNCE, showing that full-frame input is not always required.\n",
        "- The **combination of architectural fusion + strategic frame selection + hard negative awareness** provides a powerful recipe for adapting large pretrained models to small, custom datasets.\n",
        "\n",
        "These results provide a robust foundation for downstream tasks such as **video retrieval**, **caption generation**, or **clip classification** on limited data.\n"
      ]
    }
  ],
  "metadata": {
    "accelerator": "GPU",
    "colab": {
      "gpuType": "T4",
      "provenance": []
    },
    "kernelspec": {
      "display_name": "Python 3",
      "name": "python3"
    },
    "language_info": {
      "codemirror_mode": {
        "name": "ipython",
        "version": 3
      },
      "file_extension": ".py",
      "mimetype": "text/x-python",
      "name": "python",
      "nbconvert_exporter": "python",
      "pygments_lexer": "ipython3",
      "version": "3.12.1"
    }
  },
  "nbformat": 4,
  "nbformat_minor": 5
}
